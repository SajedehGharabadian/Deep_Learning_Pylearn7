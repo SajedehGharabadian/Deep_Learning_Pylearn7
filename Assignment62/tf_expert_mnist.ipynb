{
  "nbformat": 4,
  "nbformat_minor": 0,
  "metadata": {
    "colab": {
      "provenance": [],
      "gpuType": "T4"
    },
    "kernelspec": {
      "name": "python3",
      "display_name": "Python 3"
    },
    "language_info": {
      "name": "python"
    },
    "accelerator": "GPU"
  },
  "cells": [
    {
      "cell_type": "code",
      "execution_count": 1,
      "metadata": {
        "id": "roiAu_bCwiHT"
      },
      "outputs": [],
      "source": [
        "import tensorflow as tf\n",
        "from tensorflow.keras.layers import Dense,Flatten,Conv2D\n"
      ]
    },
    {
      "cell_type": "code",
      "source": [
        "mnist = tf.keras.datasets.mnist\n",
        "\n",
        "(X_train,Y_train),(X_test,Y_test) = mnist.load_data()\n",
        "X_train = X_train / 255.0\n",
        "X_test = X_test / 255.0\n",
        "X_train = X_train[...,tf.newaxis]\n",
        "X_test = X_test[...,tf.newaxis]"
      ],
      "metadata": {
        "colab": {
          "base_uri": "https://localhost:8080/"
        },
        "id": "f3iv1H4Rw0oD",
        "outputId": "b7988d13-40cb-4f98-a790-40856bdb554e"
      },
      "execution_count": 2,
      "outputs": [
        {
          "output_type": "stream",
          "name": "stdout",
          "text": [
            "Downloading data from https://storage.googleapis.com/tensorflow/tf-keras-datasets/mnist.npz\n",
            "11490434/11490434 [==============================] - 0s 0us/step\n"
          ]
        }
      ]
    },
    {
      "cell_type": "code",
      "source": [
        "type(X_train[0])"
      ],
      "metadata": {
        "colab": {
          "base_uri": "https://localhost:8080/"
        },
        "id": "UlBuFbiUxngM",
        "outputId": "98f60d43-86eb-4ab1-bf0b-fb1821757081"
      },
      "execution_count": 3,
      "outputs": [
        {
          "output_type": "execute_result",
          "data": {
            "text/plain": [
              "numpy.ndarray"
            ]
          },
          "metadata": {},
          "execution_count": 3
        }
      ]
    },
    {
      "cell_type": "code",
      "source": [
        "train_dataset = tf.data.Dataset.from_tensor_slices((X_train,Y_train)).batch(32).shuffle(1000)\n",
        "test_dataset = tf.data.Dataset.from_tensor_slices((X_test,Y_test)).batch(32)"
      ],
      "metadata": {
        "id": "KuviuZavxrOf"
      },
      "execution_count": 4,
      "outputs": []
    },
    {
      "cell_type": "code",
      "source": [
        "class MyModel(tf.keras.Model):\n",
        "  def __init__(self):\n",
        "    super().__init__()\n",
        "    self.conv1 = Conv2D(3, 3, activation=\"relu\")\n",
        "    self.flatten = Flatten()\n",
        "    self.d1 = Dense(128, activation=\"relu\")\n",
        "    self.d2 = Dense(10)\n",
        "\n",
        "  def call(self, x):\n",
        "    x = self.conv1(x)\n",
        "    x = self.flatten(x)\n",
        "    x = self.d1(x)\n",
        "    x = self.d2(x)\n",
        "    return x\n",
        "\n",
        "model = MyModel()\n",
        "\n"
      ],
      "metadata": {
        "id": "kn7TMkUNuQUo"
      },
      "execution_count": 5,
      "outputs": []
    },
    {
      "cell_type": "code",
      "source": [
        "loss_function = tf.keras.losses.SparseCategoricalCrossentropy(from_logits=True)\n",
        "optimizer = tf.keras.optimizers.Adam()"
      ],
      "metadata": {
        "id": "PwycxddB3ML0"
      },
      "execution_count": 6,
      "outputs": []
    },
    {
      "cell_type": "code",
      "source": [
        "train_loss = tf.keras.metrics.Mean()\n",
        "test_loss = tf.keras.metrics.Mean()\n",
        "\n",
        "train_accuracy = tf.metrics.SparseCategoricalAccuracy()\n",
        "test_accuracy = tf.metrics.SparseCategoricalAccuracy()"
      ],
      "metadata": {
        "id": "QXKUo7Az4bNi"
      },
      "execution_count": 7,
      "outputs": []
    },
    {
      "cell_type": "code",
      "source": [
        "@tf.function\n",
        "def train(images,labels):\n",
        "  with tf.GradientTape() as tape:\n",
        "      pred = model(images)\n",
        "      loss = loss_function(labels,pred)\n",
        "  gradients = tape.gradient(loss,model.trainable_variables)\n",
        "  optimizer.apply_gradients(zip(gradients, model.trainable_variables))\n",
        "  train_loss(loss)\n",
        "  train_accuracy(labels,pred)\n"
      ],
      "metadata": {
        "id": "CCyAXEppC3Uk"
      },
      "execution_count": 8,
      "outputs": []
    },
    {
      "cell_type": "code",
      "source": [
        "@tf.function\n",
        "def test(images, labels):\n",
        "  pred = model(images)\n",
        "  loss = loss_function(labels, pred)\n",
        "\n",
        "  test_loss(loss)\n",
        "  test_accuracy(labels, pred)"
      ],
      "metadata": {
        "id": "giyWfvcftfr9"
      },
      "execution_count": 9,
      "outputs": []
    },
    {
      "cell_type": "code",
      "source": [
        "epochs = 12\n",
        "for epoch in range(epochs):\n",
        "  train_loss.reset_states()\n",
        "  train_accuracy.reset_states()\n",
        "  test_loss.reset_states()\n",
        "  test_accuracy.reset_states()\n",
        "  for images,labels in train_dataset:\n",
        "    train(images,labels)\n",
        "\n",
        "\n",
        "  for images,labels in test_dataset:\n",
        "    test(images,labels)\n",
        "\n",
        "\n",
        "  print(\"epoch:\", epoch + 1,\n",
        "          f\"Train loss: {train_loss.result()}\",\n",
        "          f\"Train accuracy: {train_accuracy.result()}\",\n",
        "          f\"Test loss: {test_loss.result()}\",\n",
        "          f\"test accuracy: {test_accuracy.result()}\")\n",
        "\n"
      ],
      "metadata": {
        "id": "sVpV_W3H43-Y",
        "colab": {
          "base_uri": "https://localhost:8080/"
        },
        "outputId": "34baba14-a7cc-49ff-f98a-030dca9f8312"
      },
      "execution_count": 10,
      "outputs": [
        {
          "output_type": "stream",
          "name": "stdout",
          "text": [
            "epoch: 1 Train loss: 0.2009309083223343 Train accuracy: 0.9419333338737488 Test loss: 0.09308649599552155 test accuracy: 0.972000002861023\n",
            "epoch: 2 Train loss: 0.07725678384304047 Train accuracy: 0.9770833253860474 Test loss: 0.06728565692901611 test accuracy: 0.9793000221252441\n",
            "epoch: 3 Train loss: 0.04969480261206627 Train accuracy: 0.9846500158309937 Test loss: 0.061353590339422226 test accuracy: 0.9804999828338623\n",
            "epoch: 4 Train loss: 0.03488745167851448 Train accuracy: 0.9887999892234802 Test loss: 0.06398019194602966 test accuracy: 0.9815999865531921\n",
            "epoch: 5 Train loss: 0.023523714393377304 Train accuracy: 0.9925333261489868 Test loss: 0.06906012445688248 test accuracy: 0.9790999889373779\n",
            "epoch: 6 Train loss: 0.017201295122504234 Train accuracy: 0.9943333268165588 Test loss: 0.07567182928323746 test accuracy: 0.9796000123023987\n",
            "epoch: 7 Train loss: 0.013582809828221798 Train accuracy: 0.9956666827201843 Test loss: 0.07253251224756241 test accuracy: 0.9811000227928162\n",
            "epoch: 8 Train loss: 0.01040330808609724 Train accuracy: 0.9964666962623596 Test loss: 0.07370317727327347 test accuracy: 0.982699990272522\n",
            "epoch: 9 Train loss: 0.009584999643266201 Train accuracy: 0.9968166947364807 Test loss: 0.08314613997936249 test accuracy: 0.9801999926567078\n",
            "epoch: 10 Train loss: 0.006646505557000637 Train accuracy: 0.997866690158844 Test loss: 0.0809926986694336 test accuracy: 0.9822999835014343\n",
            "epoch: 11 Train loss: 0.005668211728334427 Train accuracy: 0.9980833530426025 Test loss: 0.08477848023176193 test accuracy: 0.9814000129699707\n",
            "epoch: 12 Train loss: 0.005338355433195829 Train accuracy: 0.9981499910354614 Test loss: 0.09976998716592789 test accuracy: 0.98089998960495\n"
          ]
        }
      ]
    },
    {
      "cell_type": "markdown",
      "source": [
        "## Infrence"
      ],
      "metadata": {
        "id": "Tr1MdaEdgWnq"
      }
    },
    {
      "cell_type": "code",
      "source": [
        "import cv2\n",
        "import numpy as np\n",
        "\n",
        "image = cv2.imread(\"/content/2.jpg\")\n",
        "image = cv2.cvtColor(image, cv2.COLOR_BGR2GRAY)\n",
        "image = cv2.resize(image, (28, 28))\n",
        "image = image[..., tf.newaxis]\n",
        "image = image[tf.newaxis, ...]\n",
        "image = image.astype(\"float32\")\n",
        "\n",
        "pred = model(image)\n",
        "result = np.argmax(pred)\n",
        "result"
      ],
      "metadata": {
        "id": "oPcA6WGWtEyo",
        "colab": {
          "base_uri": "https://localhost:8080/"
        },
        "outputId": "be9a0c08-0c35-40a4-e331-cb4bcf3cb4f1"
      },
      "execution_count": 12,
      "outputs": [
        {
          "output_type": "execute_result",
          "data": {
            "text/plain": [
              "2"
            ]
          },
          "metadata": {},
          "execution_count": 12
        }
      ]
    },
    {
      "cell_type": "code",
      "source": [
        "model.save(\"mnist_model\")\n"
      ],
      "metadata": {
        "id": "7MHT8donmQZS"
      },
      "execution_count": 13,
      "outputs": []
    },
    {
      "cell_type": "code",
      "source": [],
      "metadata": {
        "id": "llxtqRRjqW6J"
      },
      "execution_count": null,
      "outputs": []
    }
  ]
}