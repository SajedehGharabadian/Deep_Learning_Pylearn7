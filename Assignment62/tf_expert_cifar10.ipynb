{
  "nbformat": 4,
  "nbformat_minor": 0,
  "metadata": {
    "colab": {
      "provenance": [],
      "gpuType": "T4"
    },
    "kernelspec": {
      "name": "python3",
      "display_name": "Python 3"
    },
    "language_info": {
      "name": "python"
    },
    "accelerator": "GPU"
  },
  "cells": [
    {
      "cell_type": "code",
      "execution_count": 1,
      "metadata": {
        "id": "GKpurDmKOKG9"
      },
      "outputs": [],
      "source": [
        "import tensorflow as tf\n",
        "from tensorflow.keras.layers import Dense,Flatten,Conv2D,MaxPooling2D,Dropout,BatchNormalization"
      ]
    },
    {
      "cell_type": "code",
      "source": [
        "cifar10= tf.keras.datasets.cifar10\n",
        "\n",
        "(X_train, Y_train), (X_test, Y_test) = cifar10.load_data()\n",
        "\n",
        "X_test = X_test / 255.0\n",
        "X_train = X_train / 255.0"
      ],
      "metadata": {
        "colab": {
          "base_uri": "https://localhost:8080/"
        },
        "id": "UJYnTn9xOMPE",
        "outputId": "da0c466d-4cf9-4d10-9dc8-ad3dd8d3a783"
      },
      "execution_count": 2,
      "outputs": [
        {
          "output_type": "stream",
          "name": "stdout",
          "text": [
            "Downloading data from https://www.cs.toronto.edu/~kriz/cifar-10-python.tar.gz\n",
            "170498071/170498071 [==============================] - 3s 0us/step\n"
          ]
        }
      ]
    },
    {
      "cell_type": "code",
      "source": [
        "train_dataset = tf.data.Dataset.from_tensor_slices((X_train,Y_train)).batch(32).shuffle(1000)\n",
        "test_dataset = tf.data.Dataset.from_tensor_slices((X_test,Y_test)).batch(32)"
      ],
      "metadata": {
        "id": "OmEdYJDLRQxL"
      },
      "execution_count": 3,
      "outputs": []
    },
    {
      "cell_type": "code",
      "source": [
        "X_train.shape"
      ],
      "metadata": {
        "colab": {
          "base_uri": "https://localhost:8080/"
        },
        "id": "Hx5lxeh-RWo9",
        "outputId": "4cc27b3d-4859-4c79-ac06-6aa5c1cab7c0"
      },
      "execution_count": 4,
      "outputs": [
        {
          "output_type": "execute_result",
          "data": {
            "text/plain": [
              "(50000, 32, 32, 3)"
            ]
          },
          "metadata": {},
          "execution_count": 4
        }
      ]
    },
    {
      "cell_type": "code",
      "source": [
        "class MyModel(tf.keras.Model):\n",
        "  def __init__(self):\n",
        "    super().__init__()\n",
        "    self.conv1 = Conv2D(64,(2,2), activation=\"relu\", padding=\"same\")\n",
        "    self.conv2 = Conv2D(64, (4,4), activation=\"relu\", padding=\"same\")\n",
        "    self.conv3 = Conv2D(128, (2,2), activation=\"relu\", padding=\"same\")\n",
        "    self.conv4 = Conv2D(32, (3,3), activation=\"relu\", padding=\"same\")\n",
        "    self.b1 = BatchNormalization()\n",
        "    self.b2 = BatchNormalization()\n",
        "    self.b3 = BatchNormalization()\n",
        "    self.b4 = BatchNormalization()\n",
        "    self.m = MaxPooling2D(3,3)\n",
        "    self.dropout1 = Dropout(0.3)\n",
        "    self.dropout2 = Dropout(0.5)\n",
        "    self.dropout3 = Dropout(0.4)\n",
        "    self.dense1 = Dense(128, activation='relu')\n",
        "    self.dense2 = Dense(10, activation='softmax')\n",
        "    self.f = Flatten()\n",
        "\n",
        "  def call(self, x):\n",
        "    x = self.conv3(x)\n",
        "    x = self.b1(x)\n",
        "    x = self.conv2(x)\n",
        "    x = self.dropout1(x)\n",
        "    x = self.b2(x)\n",
        "    x = self.conv1(x)\n",
        "    x = self.b3(x)\n",
        "    x = self.m(x)\n",
        "    x = self.dropout2(x)\n",
        "    x = self.b4(x)\n",
        "    x = self.conv4(x)\n",
        "    x = self.f(x)\n",
        "    x = self.dense1(x)\n",
        "    x = self.dropout3(x)\n",
        "    x = self.dense2(x)\n",
        "    return x\n",
        "\n",
        "model = MyModel()"
      ],
      "metadata": {
        "id": "KHqLXE7uRYau"
      },
      "execution_count": 40,
      "outputs": []
    },
    {
      "cell_type": "code",
      "source": [
        "loss_function = tf.keras.losses.SparseCategoricalCrossentropy(from_logits=True)\n",
        "optimizer = tf.keras.optimizers.Adam()"
      ],
      "metadata": {
        "id": "i8a9GtjKRg1b"
      },
      "execution_count": 41,
      "outputs": []
    },
    {
      "cell_type": "code",
      "source": [
        "train_loss = tf.keras.metrics.Mean()\n",
        "test_loss = tf.keras.metrics.Mean()\n",
        "\n",
        "train_accuracy = tf.metrics.SparseCategoricalAccuracy()\n",
        "test_accuracy = tf.metrics.SparseCategoricalAccuracy()"
      ],
      "metadata": {
        "id": "cXaYf_gdRj4q"
      },
      "execution_count": 42,
      "outputs": []
    },
    {
      "cell_type": "code",
      "source": [
        "@tf.function\n",
        "def train(images,labels):\n",
        "  with tf.GradientTape() as tape:\n",
        "      pred = model(images)\n",
        "      loss = loss_function(labels,pred)\n",
        "  gradients = tape.gradient(loss,model.trainable_variables)\n",
        "  optimizer.apply_gradients(zip(gradients, model.trainable_variables))\n",
        "  train_loss(loss)\n",
        "  train_accuracy(labels,pred)"
      ],
      "metadata": {
        "id": "BZqhtWAdRlw3"
      },
      "execution_count": 43,
      "outputs": []
    },
    {
      "cell_type": "code",
      "source": [
        "@tf.function\n",
        "def test(images, labels):\n",
        "  pred = model(images)\n",
        "  loss = loss_function(labels, pred)\n",
        "\n",
        "  test_loss(loss)\n",
        "  test_accuracy(labels, pred)"
      ],
      "metadata": {
        "id": "oj_tu7A-Roj0"
      },
      "execution_count": 44,
      "outputs": []
    },
    {
      "cell_type": "code",
      "source": [
        "epochs = 5\n",
        "for epoch in range(epochs):\n",
        "  train_loss.reset_states()\n",
        "  train_accuracy.reset_states()\n",
        "  test_loss.reset_states()\n",
        "  test_accuracy.reset_states()\n",
        "  for images,labels in train_dataset:\n",
        "    train(images,labels)\n",
        "\n",
        "\n",
        "  for images,labels in test_dataset:\n",
        "    test(images,labels)\n",
        "\n",
        "\n",
        "  print(\"epoch:\", epoch + 1,\n",
        "          f\"Train loss: {train_loss.result()}\",\n",
        "          f\"Train accuracy: {train_accuracy.result()}\",\n",
        "          f\"Test loss: {test_loss.result()}\",\n",
        "          f\"test accuracy: {test_accuracy.result()}\")"
      ],
      "metadata": {
        "colab": {
          "base_uri": "https://localhost:8080/"
        },
        "id": "mMrKLVFFRrQr",
        "outputId": "c152172f-348b-40a2-b77f-f43b0b57b67c"
      },
      "execution_count": 45,
      "outputs": [
        {
          "output_type": "stream",
          "name": "stderr",
          "text": [
            "/usr/local/lib/python3.10/dist-packages/keras/src/backend.py:5727: UserWarning: \"`sparse_categorical_crossentropy` received `from_logits=True`, but the `output` argument was produced by a Softmax activation and thus does not represent logits. Was this intended?\n",
            "  output, from_logits = _get_logits(\n"
          ]
        },
        {
          "output_type": "stream",
          "name": "stdout",
          "text": [
            "epoch: 1 Train loss: 1.294523000717163 Train accuracy: 0.5341200232505798 Test loss: 1.027211308479309 test accuracy: 0.6360999941825867\n",
            "epoch: 2 Train loss: 0.8493925929069519 Train accuracy: 0.700160026550293 Test loss: 0.840398907661438 test accuracy: 0.7087000012397766\n",
            "epoch: 3 Train loss: 0.6735411286354065 Train accuracy: 0.7634999752044678 Test loss: 0.7965424656867981 test accuracy: 0.7249000072479248\n",
            "epoch: 4 Train loss: 0.5419658422470093 Train accuracy: 0.809440016746521 Test loss: 0.773866593837738 test accuracy: 0.7384999990463257\n",
            "epoch: 5 Train loss: 0.4330258369445801 Train accuracy: 0.8463000059127808 Test loss: 0.8332168459892273 test accuracy: 0.7429999709129333\n"
          ]
        }
      ]
    },
    {
      "cell_type": "code",
      "source": [],
      "metadata": {
        "id": "WVs3PeITRxHJ"
      },
      "execution_count": null,
      "outputs": []
    }
  ]
}