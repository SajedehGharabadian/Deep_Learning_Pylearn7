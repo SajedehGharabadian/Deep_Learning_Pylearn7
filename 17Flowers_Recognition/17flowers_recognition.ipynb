{
  "cells": [
    {
      "cell_type": "code",
      "execution_count": 2,
      "metadata": {
        "id": "vwke633cbrVT"
      },
      "outputs": [],
      "source": [
        "import time\n",
        "import tensorflow as tf\n",
        "from tensorflow.keras.layers import Flatten,Dense,Dropout\n",
        "from tensorflow.keras.preprocessing.image import ImageDataGenerator\n",
        "from tensorflow.keras.layers import Conv2D,MaxPool2D,Flatten,Dense\n",
        "import numpy as np\n",
        "from sklearn.metrics import confusion_matrix\n",
        "import seaborn as sn\n",
        "import matplotlib.pyplot as plt\n"
      ]
    },
    {
      "cell_type": "code",
      "execution_count": null,
      "metadata": {
        "colab": {
          "base_uri": "https://localhost:8080/"
        },
        "id": "6lk7broUb7_A",
        "outputId": "a6307393-4533-47a8-ed95-0fada95e07cf"
      },
      "outputs": [
        {
          "name": "stdout",
          "output_type": "stream",
          "text": [
            "Found 823 images belonging to 17 classes.\n",
            "Found 197 images belonging to 17 classes.\n"
          ]
        }
      ],
      "source": [
        "train_dataset_path = '/content/drive/MyDrive/17Flowers/train'\n",
        "width = height = 224\n",
        "batch_size = 32\n",
        "\n",
        "idg = ImageDataGenerator(\n",
        "    rescale = 1./255,\n",
        "    horizontal_flip = True,\n",
        "    brightness_range = (0.8,1.2),\n",
        "    zoom_range = 0.1,\n",
        "    shear_range = 0.3,\n",
        "    rotation_range = 10,\n",
        "    validation_split = 0.2\n",
        ")\n",
        "\n",
        "train_data = idg.flow_from_directory(\n",
        "    train_dataset_path,\n",
        "    target_size = (width,height),\n",
        "    class_mode = \"categorical\",\n",
        "    batch_size = batch_size,\n",
        "    subset = \"training\"\n",
        "\n",
        ")\n",
        "val_data = idg.flow_from_directory(\n",
        "    train_dataset_path,\n",
        "    target_size = (width,height),\n",
        "    class_mode = \"categorical\",\n",
        "    batch_size = batch_size,\n",
        "    subset = \"validation\"\n",
        "\n",
        ")"
      ]
    },
    {
      "cell_type": "code",
      "execution_count": null,
      "metadata": {
        "id": "HKTLbIpmccq4"
      },
      "outputs": [],
      "source": [
        "model = tf.keras.models.Sequential([\n",
        "  Conv2D(16,(3,3),activation='relu',strides=(2, 2),input_shape=(width,height,3)),\n",
        "  Conv2D(32,(3,3),activation='relu',strides=(2, 2)),\n",
        "  MaxPool2D(),\n",
        "  Conv2D(64,(5,5),activation='relu',strides=(2, 2)),\n",
        "  Conv2D(256,(3,3),activation='relu',strides=(2, 2)),\n",
        "  MaxPool2D(),\n",
        "\n",
        "  Flatten(),\n",
        "  Dense(512,activation='relu'),\n",
        "  Dense(64,activation='relu'),\n",
        "  Dense(17,activation='softmax')\n",
        "])"
      ]
    },
    {
      "cell_type": "code",
      "execution_count": null,
      "metadata": {
        "colab": {
          "base_uri": "https://localhost:8080/"
        },
        "id": "bo813YGtdJXx",
        "outputId": "82a1941c-950d-4329-ec11-06eda8c6dfeb"
      },
      "outputs": [
        {
          "name": "stderr",
          "output_type": "stream",
          "text": [
            "WARNING:absl:`lr` is deprecated in Keras optimizer, please use `learning_rate` or use the legacy optimizer, e.g.,tf.keras.optimizers.legacy.RMSprop.\n"
          ]
        }
      ],
      "source": [
        "model.compile(optimizer= tf.keras.optimizers.RMSprop(lr=2e-3),\n",
        "              loss='categorical_crossentropy',\n",
        "              metrics=['accuracy'])"
      ]
    },
    {
      "cell_type": "code",
      "execution_count": null,
      "metadata": {
        "colab": {
          "base_uri": "https://localhost:8080/"
        },
        "id": "4hQd3jF2dcX1",
        "outputId": "11ffbb36-00c6-43f6-d09f-13e7ca9e8972"
      },
      "outputs": [
        {
          "name": "stdout",
          "output_type": "stream",
          "text": [
            "Epoch 1/20\n",
            "26/26 [==============================] - 296s 11s/step - loss: 2.7263 - accuracy: 0.0887 - val_loss: 2.4782 - val_accuracy: 0.1371\n",
            "Epoch 2/20\n",
            "26/26 [==============================] - 20s 776ms/step - loss: 2.4112 - accuracy: 0.1810 - val_loss: 2.3463 - val_accuracy: 0.1980\n",
            "Epoch 3/20\n",
            "26/26 [==============================] - 22s 824ms/step - loss: 2.2068 - accuracy: 0.2066 - val_loss: 1.9769 - val_accuracy: 0.2893\n",
            "Epoch 4/20\n",
            "26/26 [==============================] - 20s 774ms/step - loss: 2.0328 - accuracy: 0.3111 - val_loss: 2.0456 - val_accuracy: 0.2690\n",
            "Epoch 5/20\n",
            "26/26 [==============================] - 21s 829ms/step - loss: 1.8960 - accuracy: 0.3621 - val_loss: 1.7901 - val_accuracy: 0.3706\n",
            "Epoch 6/20\n",
            "26/26 [==============================] - 20s 759ms/step - loss: 1.8017 - accuracy: 0.3621 - val_loss: 1.5574 - val_accuracy: 0.4010\n",
            "Epoch 7/20\n",
            "26/26 [==============================] - 21s 826ms/step - loss: 1.6535 - accuracy: 0.4289 - val_loss: 1.4351 - val_accuracy: 0.4315\n",
            "Epoch 8/20\n",
            "26/26 [==============================] - 20s 775ms/step - loss: 1.5079 - accuracy: 0.4605 - val_loss: 1.4286 - val_accuracy: 0.4721\n",
            "Epoch 9/20\n",
            "26/26 [==============================] - 21s 834ms/step - loss: 1.4405 - accuracy: 0.5176 - val_loss: 1.6179 - val_accuracy: 0.4416\n",
            "Epoch 10/20\n",
            "26/26 [==============================] - 22s 839ms/step - loss: 1.3966 - accuracy: 0.5055 - val_loss: 1.8558 - val_accuracy: 0.3807\n",
            "Epoch 11/20\n",
            "26/26 [==============================] - 20s 767ms/step - loss: 1.2556 - accuracy: 0.5516 - val_loss: 1.3191 - val_accuracy: 0.5533\n",
            "Epoch 12/20\n",
            "26/26 [==============================] - 21s 802ms/step - loss: 1.2048 - accuracy: 0.5772 - val_loss: 1.5137 - val_accuracy: 0.5127\n",
            "Epoch 13/20\n",
            "26/26 [==============================] - 22s 837ms/step - loss: 1.1313 - accuracy: 0.5966 - val_loss: 1.2071 - val_accuracy: 0.5482\n",
            "Epoch 14/20\n",
            "26/26 [==============================] - 22s 844ms/step - loss: 1.1009 - accuracy: 0.6209 - val_loss: 1.4027 - val_accuracy: 0.4924\n",
            "Epoch 15/20\n",
            "26/26 [==============================] - 20s 785ms/step - loss: 1.0132 - accuracy: 0.6452 - val_loss: 1.0304 - val_accuracy: 0.6447\n",
            "Epoch 16/20\n",
            "26/26 [==============================] - 21s 818ms/step - loss: 1.0013 - accuracy: 0.6513 - val_loss: 1.0755 - val_accuracy: 0.5787\n",
            "Epoch 17/20\n",
            "26/26 [==============================] - 21s 823ms/step - loss: 0.8992 - accuracy: 0.6902 - val_loss: 1.4685 - val_accuracy: 0.5381\n",
            "Epoch 18/20\n",
            "26/26 [==============================] - 22s 839ms/step - loss: 0.8515 - accuracy: 0.6987 - val_loss: 1.2246 - val_accuracy: 0.5838\n",
            "Epoch 19/20\n",
            "26/26 [==============================] - 22s 839ms/step - loss: 0.7530 - accuracy: 0.7473 - val_loss: 1.3821 - val_accuracy: 0.5838\n",
            "Epoch 20/20\n",
            "26/26 [==============================] - 22s 851ms/step - loss: 0.7969 - accuracy: 0.7254 - val_loss: 1.0793 - val_accuracy: 0.6447\n"
          ]
        },
        {
          "data": {
            "text/plain": [
              "<keras.src.callbacks.History at 0x78281bcafb50>"
            ]
          },
          "execution_count": 6,
          "metadata": {},
          "output_type": "execute_result"
        }
      ],
      "source": [
        "model.fit(train_data,validation_data=val_data,epochs=20)\n"
      ]
    },
    {
      "cell_type": "code",
      "execution_count": 4,
      "metadata": {
        "colab": {
          "base_uri": "https://localhost:8080/"
        },
        "id": "xXYJJaQtdmuO",
        "outputId": "2a28b67d-56a7-4490-9c5a-feeb5f334b3b"
      },
      "outputs": [
        {
          "output_type": "stream",
          "name": "stdout",
          "text": [
            "Found 340 images belonging to 17 classes.\n"
          ]
        }
      ],
      "source": [
        "test_dataset_path = '/content/drive/MyDrive/17Flowers/test'\n",
        "width=height = 224\n",
        "batch_size = 32\n",
        "idg = ImageDataGenerator(\n",
        "    rescale = 1./255,\n",
        ")\n",
        "\n",
        "\n",
        "test_data = idg.flow_from_directory(\n",
        "    test_dataset_path,\n",
        "    target_size = (width,height),\n",
        "    class_mode = \"categorical\",\n",
        "    batch_size = batch_size,\n",
        ")"
      ]
    },
    {
      "cell_type": "code",
      "execution_count": null,
      "metadata": {
        "colab": {
          "base_uri": "https://localhost:8080/"
        },
        "id": "ZszR-2hc-Iwu",
        "outputId": "b82fe550-54ba-4b08-f051-37fee8682ee1"
      },
      "outputs": [
        {
          "name": "stdout",
          "output_type": "stream",
          "text": [
            "11/11 [==============================] - 82s 8s/step - loss: 1.1880 - accuracy: 0.6235\n"
          ]
        },
        {
          "data": {
            "text/plain": [
              "[1.1879751682281494, 0.6235294342041016]"
            ]
          },
          "execution_count": 8,
          "metadata": {},
          "output_type": "execute_result"
        }
      ],
      "source": [
        "model.evaluate(test_data)\n"
      ]
    },
    {
      "cell_type": "code",
      "execution_count": null,
      "metadata": {
        "colab": {
          "base_uri": "https://localhost:8080/"
        },
        "id": "6MJEwGtM_Nmf",
        "outputId": "e88b7dd0-dfed-4179-ddfa-e9976f2cf382"
      },
      "outputs": [
        {
          "name": "stderr",
          "output_type": "stream",
          "text": [
            "/usr/local/lib/python3.10/dist-packages/keras/src/engine/training.py:3000: UserWarning: You are saving your model as an HDF5 file via `model.save()`. This file format is considered legacy. We recommend using instead the native Keras format, e.g. `model.save('my_model.keras')`.\n",
            "  saving_api.save_model(\n"
          ]
        }
      ],
      "source": [
        "model.save('flowers.h5')"
      ]
    },
    {
      "cell_type": "code",
      "source": [
        "from keras.models import load_model\n",
        "model = load_model('/content/flowers.h5')"
      ],
      "metadata": {
        "id": "QnQ22vUrif9B"
      },
      "execution_count": 1,
      "outputs": []
    },
    {
      "cell_type": "code",
      "source": [
        "Y_pred = model.predict(test_data)\n",
        "y_pred = np.argmax(Y_pred, axis=1)\n",
        "conf_mat = confusion_matrix(test_data.classes, y_pred)\n",
        "\n",
        "fig, ax = plt.subplots(figsize=(10, 8))\n",
        "sn.heatmap(conf_mat, annot=True,ax=ax)\n",
        "plt.imshow(conf_mat)\n",
        ""
      ],
      "metadata": {
        "colab": {
          "base_uri": "https://localhost:8080/",
          "height": 717
        },
        "id": "5ExWIFBljhLw",
        "outputId": "1c2b25a0-93b0-4664-bc92-4a5d67fff55a"
      },
      "execution_count": 8,
      "outputs": [
        {
          "output_type": "stream",
          "name": "stdout",
          "text": [
            "11/11 [==============================] - 2s 167ms/step\n"
          ]
        },
        {
          "output_type": "execute_result",
          "data": {
            "text/plain": [
              "<matplotlib.image.AxesImage at 0x78ed6bd32f50>"
            ]
          },
          "metadata": {},
          "execution_count": 8
        },
        {
          "output_type": "display_data",
          "data": {
            "text/plain": [
              "<Figure size 1000x800 with 2 Axes>"
            ],
            "image/png": "[encoded data removed]"
          },
          "metadata": {}
        }
      ]
    },
    {
      "cell_type": "code",
      "source": [],
      "metadata": {
        "id": "3eaofvRGney1"
      },
      "execution_count": null,
      "outputs": []
    }
  ],
  "metadata": {
    "accelerator": "GPU",
    "colab": {
      "provenance": []
    },
    "kernelspec": {
      "display_name": "Python 3",
      "name": "python3"
    },
    "language_info": {
      "name": "python"
    }
  },
  "nbformat": 4,
  "nbformat_minor": 0
}