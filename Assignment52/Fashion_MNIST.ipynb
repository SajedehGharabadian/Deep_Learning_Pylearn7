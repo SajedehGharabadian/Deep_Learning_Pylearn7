{
  "cells": [
    {
      "cell_type": "code",
      "execution_count": 1,
      "metadata": {
        "id": "vD-fnX71RXCX"
      },
      "outputs": [],
      "source": [
        "import tensorflow as tf\n",
        "from tensorflow.keras import layers\n",
        "import numpy as np\n",
        "from sklearn.model_selection import train_test_split"
      ]
    },
    {
      "cell_type": "code",
      "execution_count": 2,
      "metadata": {
        "id": "LT6zJW_USSie",
        "colab": {
          "base_uri": "https://localhost:8080/"
        },
        "outputId": "5657c11e-c2b5-44e3-c93b-22ff8cd46e5d"
      },
      "outputs": [
        {
          "output_type": "stream",
          "name": "stdout",
          "text": [
            "Downloading data from https://storage.googleapis.com/tensorflow/tf-keras-datasets/train-labels-idx1-ubyte.gz\n",
            "29515/29515 [==============================] - 0s 0us/step\n",
            "Downloading data from https://storage.googleapis.com/tensorflow/tf-keras-datasets/train-images-idx3-ubyte.gz\n",
            "26421880/26421880 [==============================] - 0s 0us/step\n",
            "Downloading data from https://storage.googleapis.com/tensorflow/tf-keras-datasets/t10k-labels-idx1-ubyte.gz\n",
            "5148/5148 [==============================] - 0s 0us/step\n",
            "Downloading data from https://storage.googleapis.com/tensorflow/tf-keras-datasets/t10k-images-idx3-ubyte.gz\n",
            "4422102/4422102 [==============================] - 0s 0us/step\n"
          ]
        }
      ],
      "source": [
        "fashion_mnist = tf.keras.datasets.fashion_mnist\n",
        "\n",
        "(X_train, Y_train), (X_test, Y_test) = fashion_mnist.load_data()\n",
        "\n",
        "X_test = X_test / 255.0\n",
        "\n",
        "X_train = X_train / 255.0"
      ]
    },
    {
      "cell_type": "markdown",
      "metadata": {
        "id": "UFOF_AhJTN1z"
      },
      "source": [
        "## MLP"
      ]
    },
    {
      "cell_type": "code",
      "execution_count": 3,
      "metadata": {
        "colab": {
          "base_uri": "https://localhost:8080/"
        },
        "id": "7FO16GZESuvf",
        "outputId": "492e090b-f242-406d-d472-a28928744fea"
      },
      "outputs": [
        {
          "output_type": "stream",
          "name": "stdout",
          "text": [
            "Epoch 1/12\n",
            "1875/1875 [==============================] - 11s 2ms/step - loss: 0.4976 - accuracy: 0.8253\n",
            "Epoch 2/12\n",
            "1875/1875 [==============================] - 5s 3ms/step - loss: 0.3749 - accuracy: 0.8644\n",
            "Epoch 3/12\n",
            "1875/1875 [==============================] - 5s 3ms/step - loss: 0.3371 - accuracy: 0.8770\n",
            "Epoch 4/12\n",
            "1875/1875 [==============================] - 5s 2ms/step - loss: 0.3104 - accuracy: 0.8866\n",
            "Epoch 5/12\n",
            "1875/1875 [==============================] - 5s 3ms/step - loss: 0.2965 - accuracy: 0.8912\n",
            "Epoch 6/12\n",
            "1875/1875 [==============================] - 5s 2ms/step - loss: 0.2813 - accuracy: 0.8959\n",
            "Epoch 7/12\n",
            "1875/1875 [==============================] - 5s 3ms/step - loss: 0.2698 - accuracy: 0.9007\n",
            "Epoch 8/12\n",
            "1875/1875 [==============================] - 5s 3ms/step - loss: 0.2561 - accuracy: 0.9051\n",
            "Epoch 9/12\n",
            "1875/1875 [==============================] - 5s 2ms/step - loss: 0.2474 - accuracy: 0.9083\n",
            "Epoch 10/12\n",
            "1875/1875 [==============================] - 5s 3ms/step - loss: 0.2404 - accuracy: 0.9106\n",
            "Epoch 11/12\n",
            "1875/1875 [==============================] - 5s 2ms/step - loss: 0.2312 - accuracy: 0.9132\n",
            "Epoch 12/12\n",
            "1875/1875 [==============================] - 5s 3ms/step - loss: 0.2253 - accuracy: 0.9154\n"
          ]
        },
        {
          "output_type": "execute_result",
          "data": {
            "text/plain": [
              "<keras.src.callbacks.History at 0x7ac43c15aec0>"
            ]
          },
          "metadata": {},
          "execution_count": 3
        }
      ],
      "source": [
        "model = tf.keras.Sequential([\n",
        "    tf.keras.layers.Flatten(input_shape=(28, 28)),\n",
        "    tf.keras.layers.Dense(128, activation='relu'),\n",
        "    tf.keras.layers.Dense(10)\n",
        "])\n",
        "\n",
        "model.compile(optimizer='adam',\n",
        "              loss=tf.keras.losses.SparseCategoricalCrossentropy(from_logits=True),\n",
        "              metrics=['accuracy'])\n",
        "\n",
        "model.fit(X_train, Y_train, epochs=12)"
      ]
    },
    {
      "cell_type": "code",
      "execution_count": 4,
      "metadata": {
        "colab": {
          "base_uri": "https://localhost:8080/"
        },
        "id": "bY_aSe6_TUWR",
        "outputId": "06b480df-dc27-41af-de36-f2e9403e4d50"
      },
      "outputs": [
        {
          "output_type": "stream",
          "name": "stdout",
          "text": [
            "313/313 [==============================] - 1s 3ms/step - loss: 0.3316 - accuracy: 0.8876\n"
          ]
        },
        {
          "output_type": "execute_result",
          "data": {
            "text/plain": [
              "[0.33156901597976685, 0.8876000046730042]"
            ]
          },
          "metadata": {},
          "execution_count": 4
        }
      ],
      "source": [
        "model.evaluate(X_test,  Y_test)\n"
      ]
    },
    {
      "cell_type": "code",
      "source": [
        "model.save('weights_mlp.h5')"
      ],
      "metadata": {
        "colab": {
          "base_uri": "https://localhost:8080/"
        },
        "id": "8L15O9vkto1D",
        "outputId": "393d7a27-e180-43f1-ac9d-1605a3f21e8a"
      },
      "execution_count": 5,
      "outputs": [
        {
          "output_type": "stream",
          "name": "stderr",
          "text": [
            "/usr/local/lib/python3.10/dist-packages/keras/src/engine/training.py:3000: UserWarning: You are saving your model as an HDF5 file via `model.save()`. This file format is considered legacy. We recommend using instead the native Keras format, e.g. `model.save('my_model.keras')`.\n",
            "  saving_api.save_model(\n"
          ]
        }
      ]
    },
    {
      "cell_type": "markdown",
      "metadata": {
        "id": "ZAZZ8UvyTZVI"
      },
      "source": [
        "## MLP + CNN"
      ]
    },
    {
      "cell_type": "code",
      "execution_count": 6,
      "metadata": {
        "id": "dhyIAzGtTX77"
      },
      "outputs": [],
      "source": [
        "model = tf.keras.models.Sequential([\n",
        "\n",
        "        layers.Conv2D(32,(3,3),activation='relu',input_shape=(28, 28,1)),\n",
        "        layers.MaxPool2D(),\n",
        "        layers.Conv2D(64,(3,3),activation='relu'),\n",
        "        layers.MaxPool2D(),\n",
        "        layers.Conv2D(32,(3,3),activation='relu'),\n",
        "\n",
        "        layers.Flatten(),\n",
        "\n",
        "        tf.keras.layers.Dense(48, activation='relu'),\n",
        "        tf.keras.layers.Dense(10)\n",
        "])\n",
        "model.compile(optimizer='adam',\n",
        "              loss=tf.keras.losses.SparseCategoricalCrossentropy(from_logits=True),\n",
        "              metrics=['accuracy'])"
      ]
    },
    {
      "cell_type": "code",
      "source": [
        "model.fit(X_train,Y_train,epochs=10)"
      ],
      "metadata": {
        "colab": {
          "base_uri": "https://localhost:8080/"
        },
        "id": "iicE5HZrhGoO",
        "outputId": "de44ea3e-6429-4778-f5cb-b484ea492baf"
      },
      "execution_count": 7,
      "outputs": [
        {
          "output_type": "stream",
          "name": "stdout",
          "text": [
            "Epoch 1/10\n",
            "1875/1875 [==============================] - 18s 4ms/step - loss: 0.5089 - accuracy: 0.8155\n",
            "Epoch 2/10\n",
            "1875/1875 [==============================] - 8s 4ms/step - loss: 0.3334 - accuracy: 0.8795\n",
            "Epoch 3/10\n",
            "1875/1875 [==============================] - 7s 4ms/step - loss: 0.2898 - accuracy: 0.8937\n",
            "Epoch 4/10\n",
            "1875/1875 [==============================] - 7s 4ms/step - loss: 0.2589 - accuracy: 0.9047\n",
            "Epoch 5/10\n",
            "1875/1875 [==============================] - 8s 4ms/step - loss: 0.2357 - accuracy: 0.9125\n",
            "Epoch 6/10\n",
            "1875/1875 [==============================] - 7s 4ms/step - loss: 0.2159 - accuracy: 0.9203\n",
            "Epoch 7/10\n",
            "1875/1875 [==============================] - 7s 4ms/step - loss: 0.2006 - accuracy: 0.9256\n",
            "Epoch 8/10\n",
            "1875/1875 [==============================] - 7s 4ms/step - loss: 0.1870 - accuracy: 0.9300\n",
            "Epoch 9/10\n",
            "1875/1875 [==============================] - 7s 4ms/step - loss: 0.1736 - accuracy: 0.9356\n",
            "Epoch 10/10\n",
            "1875/1875 [==============================] - 8s 4ms/step - loss: 0.1625 - accuracy: 0.9391\n"
          ]
        },
        {
          "output_type": "execute_result",
          "data": {
            "text/plain": [
              "<keras.src.callbacks.History at 0x7ac3fc35d8d0>"
            ]
          },
          "metadata": {},
          "execution_count": 7
        }
      ]
    },
    {
      "cell_type": "code",
      "source": [
        "model.evaluate(X_test, Y_test)"
      ],
      "metadata": {
        "colab": {
          "base_uri": "https://localhost:8080/"
        },
        "id": "mkBJtzYfhOPy",
        "outputId": "dc82688e-9453-4155-9287-4feda6d6284d"
      },
      "execution_count": 8,
      "outputs": [
        {
          "output_type": "stream",
          "name": "stdout",
          "text": [
            "313/313 [==============================] - 1s 3ms/step - loss: 0.2670 - accuracy: 0.9107\n"
          ]
        },
        {
          "output_type": "execute_result",
          "data": {
            "text/plain": [
              "[0.26696541905403137, 0.9107000231742859]"
            ]
          },
          "metadata": {},
          "execution_count": 8
        }
      ]
    },
    {
      "cell_type": "code",
      "source": [
        "model.save('weights_mlp_cnn.h5')"
      ],
      "metadata": {
        "id": "8oc-8kaktq-y"
      },
      "execution_count": 9,
      "outputs": []
    },
    {
      "cell_type": "code",
      "source": [],
      "metadata": {
        "id": "b_x3bSf1trj4"
      },
      "execution_count": null,
      "outputs": []
    }
  ],
  "metadata": {
    "colab": {
      "provenance": [],
      "gpuType": "T4"
    },
    "kernelspec": {
      "display_name": "Python 3",
      "name": "python3"
    },
    "language_info": {
      "name": "python"
    },
    "accelerator": "GPU"
  },
  "nbformat": 4,
  "nbformat_minor": 0
}