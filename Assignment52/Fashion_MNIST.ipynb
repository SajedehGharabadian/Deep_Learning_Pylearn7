{
  "cells": [
    {
      "cell_type": "code",
      "execution_count": 1,
      "metadata": {
        "id": "vD-fnX71RXCX"
      },
      "outputs": [],
      "source": [
        "import tensorflow as tf\n",
        "from tensorflow.keras import layers\n",
        "import numpy as np\n",
        "from sklearn.model_selection import train_test_split"
      ]
    },
    {
      "cell_type": "code",
      "execution_count": 8,
      "metadata": {
        "id": "LT6zJW_USSie"
      },
      "outputs": [],
      "source": [
        "fashion_mnist = tf.keras.datasets.fashion_mnist\n",
        "\n",
        "(X_train, Y_train), (X_test, Y_test) = fashion_mnist.load_data()\n",
        "\n",
        "X_test = X_test / 255.0\n",
        "\n",
        "X_train = X_train / 255.0"
      ]
    },
    {
      "cell_type": "markdown",
      "metadata": {
        "id": "UFOF_AhJTN1z"
      },
      "source": [
        "## MLP"
      ]
    },
    {
      "cell_type": "code",
      "execution_count": 9,
      "metadata": {
        "colab": {
          "base_uri": "https://localhost:8080/"
        },
        "id": "7FO16GZESuvf",
        "outputId": "a08c4ad9-31bb-408b-ad3c-6a926ea16ffd"
      },
      "outputs": [
        {
          "output_type": "stream",
          "name": "stdout",
          "text": [
            "Epoch 1/12\n",
            "1875/1875 [==============================] - 7s 3ms/step - loss: 0.4992 - accuracy: 0.8246\n",
            "Epoch 2/12\n",
            "1875/1875 [==============================] - 7s 4ms/step - loss: 0.3750 - accuracy: 0.8645\n",
            "Epoch 3/12\n",
            "1875/1875 [==============================] - 7s 4ms/step - loss: 0.3379 - accuracy: 0.8760\n",
            "Epoch 4/12\n",
            "1875/1875 [==============================] - 6s 3ms/step - loss: 0.3168 - accuracy: 0.8855\n",
            "Epoch 5/12\n",
            "1875/1875 [==============================] - 7s 4ms/step - loss: 0.2979 - accuracy: 0.8913\n",
            "Epoch 6/12\n",
            "1875/1875 [==============================] - 6s 3ms/step - loss: 0.2847 - accuracy: 0.8947\n",
            "Epoch 7/12\n",
            "1875/1875 [==============================] - 7s 4ms/step - loss: 0.2711 - accuracy: 0.9005\n",
            "Epoch 8/12\n",
            "1875/1875 [==============================] - 6s 3ms/step - loss: 0.2580 - accuracy: 0.9049\n",
            "Epoch 9/12\n",
            "1875/1875 [==============================] - 6s 3ms/step - loss: 0.2481 - accuracy: 0.9078\n",
            "Epoch 10/12\n",
            "1875/1875 [==============================] - 6s 3ms/step - loss: 0.2395 - accuracy: 0.9107\n",
            "Epoch 11/12\n",
            "1875/1875 [==============================] - 6s 3ms/step - loss: 0.2321 - accuracy: 0.9129\n",
            "Epoch 12/12\n",
            "1875/1875 [==============================] - 6s 3ms/step - loss: 0.2253 - accuracy: 0.9154\n"
          ]
        },
        {
          "output_type": "execute_result",
          "data": {
            "text/plain": [
              "<keras.src.callbacks.History at 0x7827cb1e3f70>"
            ]
          },
          "metadata": {},
          "execution_count": 9
        }
      ],
      "source": [
        "model = tf.keras.Sequential([\n",
        "    tf.keras.layers.Flatten(input_shape=(28, 28)),\n",
        "    tf.keras.layers.Dense(128, activation='relu'),\n",
        "    tf.keras.layers.Dense(10)\n",
        "])\n",
        "\n",
        "model.compile(optimizer='adam',\n",
        "              loss=tf.keras.losses.SparseCategoricalCrossentropy(from_logits=True),\n",
        "              metrics=['accuracy'])\n",
        "\n",
        "model.fit(X_train, Y_train, epochs=12)"
      ]
    },
    {
      "cell_type": "code",
      "execution_count": 10,
      "metadata": {
        "colab": {
          "base_uri": "https://localhost:8080/"
        },
        "id": "bY_aSe6_TUWR",
        "outputId": "cd63d979-9471-41ac-cd88-ade3d52d7653"
      },
      "outputs": [
        {
          "output_type": "stream",
          "name": "stdout",
          "text": [
            "313/313 [==============================] - 1s 2ms/step - loss: 0.3417 - accuracy: 0.8835\n"
          ]
        },
        {
          "output_type": "execute_result",
          "data": {
            "text/plain": [
              "[0.3417045772075653, 0.8834999799728394]"
            ]
          },
          "metadata": {},
          "execution_count": 10
        }
      ],
      "source": [
        "model.evaluate(X_test,  Y_test)\n"
      ]
    },
    {
      "cell_type": "markdown",
      "metadata": {
        "id": "ZAZZ8UvyTZVI"
      },
      "source": [
        "## MLP + CNN"
      ]
    },
    {
      "cell_type": "code",
      "execution_count": 11,
      "metadata": {
        "id": "dhyIAzGtTX77"
      },
      "outputs": [],
      "source": [
        "model = tf.keras.models.Sequential([\n",
        "\n",
        "        layers.Conv2D(32,(3,3),activation='relu',input_shape=(28, 28,1)),\n",
        "        layers.MaxPool2D(),\n",
        "        layers.Conv2D(64,(3,3),activation='relu'),\n",
        "        layers.MaxPool2D(),\n",
        "        layers.Conv2D(32,(3,3),activation='relu'),\n",
        "\n",
        "        layers.Flatten(),\n",
        "\n",
        "        tf.keras.layers.Dense(48, activation='relu'),\n",
        "        tf.keras.layers.Dense(10)\n",
        "])\n",
        "model.compile(optimizer='adam',\n",
        "              loss=tf.keras.losses.SparseCategoricalCrossentropy(from_logits=True),\n",
        "              metrics=['accuracy'])"
      ]
    },
    {
      "cell_type": "code",
      "source": [
        "model.fit(X_train,Y_train,epochs=10)"
      ],
      "metadata": {
        "colab": {
          "base_uri": "https://localhost:8080/"
        },
        "id": "iicE5HZrhGoO",
        "outputId": "1009b52c-b29f-4bdc-8741-a94eb09ce389"
      },
      "execution_count": 12,
      "outputs": [
        {
          "output_type": "stream",
          "name": "stdout",
          "text": [
            "Epoch 1/10\n",
            "1875/1875 [==============================] - 54s 28ms/step - loss: 0.5360 - accuracy: 0.8029\n",
            "Epoch 2/10\n",
            "1875/1875 [==============================] - 51s 27ms/step - loss: 0.3429 - accuracy: 0.8757\n",
            "Epoch 3/10\n",
            "1875/1875 [==============================] - 51s 27ms/step - loss: 0.2924 - accuracy: 0.8932\n",
            "Epoch 4/10\n",
            "1875/1875 [==============================] - 51s 27ms/step - loss: 0.2633 - accuracy: 0.9035\n",
            "Epoch 5/10\n",
            "1875/1875 [==============================] - 51s 27ms/step - loss: 0.2405 - accuracy: 0.9114\n",
            "Epoch 6/10\n",
            "1875/1875 [==============================] - 51s 27ms/step - loss: 0.2218 - accuracy: 0.9193\n",
            "Epoch 7/10\n",
            "1875/1875 [==============================] - 52s 28ms/step - loss: 0.2076 - accuracy: 0.9229\n",
            "Epoch 8/10\n",
            "1875/1875 [==============================] - 51s 27ms/step - loss: 0.1953 - accuracy: 0.9266\n",
            "Epoch 9/10\n",
            "1875/1875 [==============================] - 50s 27ms/step - loss: 0.1817 - accuracy: 0.9321\n",
            "Epoch 10/10\n",
            "1875/1875 [==============================] - 50s 27ms/step - loss: 0.1717 - accuracy: 0.9360\n"
          ]
        },
        {
          "output_type": "execute_result",
          "data": {
            "text/plain": [
              "<keras.src.callbacks.History at 0x7827d458c310>"
            ]
          },
          "metadata": {},
          "execution_count": 12
        }
      ]
    },
    {
      "cell_type": "code",
      "source": [
        "model.evaluate(X_test, Y_test)"
      ],
      "metadata": {
        "colab": {
          "base_uri": "https://localhost:8080/"
        },
        "id": "mkBJtzYfhOPy",
        "outputId": "020d24d1-c51e-43db-8a6c-47e2ce033ecf"
      },
      "execution_count": 13,
      "outputs": [
        {
          "output_type": "stream",
          "name": "stdout",
          "text": [
            "313/313 [==============================] - 3s 8ms/step - loss: 0.2702 - accuracy: 0.9072\n"
          ]
        },
        {
          "output_type": "execute_result",
          "data": {
            "text/plain": [
              "[0.27018898725509644, 0.9071999788284302]"
            ]
          },
          "metadata": {},
          "execution_count": 13
        }
      ]
    }
  ],
  "metadata": {
    "colab": {
      "provenance": []
    },
    "kernelspec": {
      "display_name": "Python 3",
      "name": "python3"
    },
    "language_info": {
      "name": "python"
    }
  },
  "nbformat": 4,
  "nbformat_minor": 0
}