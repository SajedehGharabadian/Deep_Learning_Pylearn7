{
  "cells": [
    {
      "cell_type": "code",
      "execution_count": 1,
      "metadata": {
        "id": "KEWBHrPLl_47"
      },
      "outputs": [],
      "source": [
        "import tensorflow as tf\n",
        "from tensorflow.keras import layers\n",
        "import numpy as np\n",
        "from sklearn.model_selection import train_test_split"
      ]
    },
    {
      "cell_type": "code",
      "execution_count": 2,
      "metadata": {
        "colab": {
          "base_uri": "https://localhost:8080/"
        },
        "id": "aFIpsCOemxbC",
        "outputId": "2287ca19-6ef6-4b2a-c873-2041f13c2750"
      },
      "outputs": [
        {
          "output_type": "stream",
          "name": "stdout",
          "text": [
            "Downloading data from https://www.cs.toronto.edu/~kriz/cifar-100-python.tar.gz\n",
            "169001437/169001437 [==============================] - 2s 0us/step\n"
          ]
        }
      ],
      "source": [
        "cifar100 = tf.keras.datasets.cifar100\n",
        "\n",
        "(X_train, Y_train), (X_test, Y_test) = cifar100.load_data()\n",
        "\n",
        "X_test = X_test / 255.0\n",
        "\n",
        "X_train = X_train / 255.0"
      ]
    },
    {
      "cell_type": "markdown",
      "metadata": {
        "id": "det6Sjnyn6ke"
      },
      "source": [
        "## MLP"
      ]
    },
    {
      "cell_type": "code",
      "execution_count": 3,
      "metadata": {
        "id": "u2pojUFwnTNu"
      },
      "outputs": [],
      "source": [
        "model = tf.keras.Sequential([\n",
        "    tf.keras.layers.Flatten(input_shape=(32, 32,3)),\n",
        "    tf.keras.layers.Dense(512, activation='relu'),\n",
        "    tf.keras.layers.Dense(256, activation='relu'),\n",
        "    tf.keras.layers.Dense(128, activation='relu'),\n",
        "    tf.keras.layers.Dense(100,activation='softmax')\n",
        "])\n",
        "\n",
        "model.compile(optimizer='adam',\n",
        "              loss=tf.keras.losses.SparseCategoricalCrossentropy(from_logits=True),\n",
        "              metrics=['accuracy'])\n",
        "\n"
      ]
    },
    {
      "cell_type": "code",
      "execution_count": 4,
      "metadata": {
        "colab": {
          "base_uri": "https://localhost:8080/"
        },
        "id": "LUmTrxnHn5ga",
        "outputId": "0d4df709-a69d-4158-a11d-447092634b13"
      },
      "outputs": [
        {
          "output_type": "stream",
          "name": "stdout",
          "text": [
            "Epoch 1/25\n"
          ]
        },
        {
          "output_type": "stream",
          "name": "stderr",
          "text": [
            "/usr/local/lib/python3.10/dist-packages/keras/src/backend.py:5714: UserWarning: \"`sparse_categorical_crossentropy` received `from_logits=True`, but the `output` argument was produced by a Softmax activation and thus does not represent logits. Was this intended?\n",
            "  output, from_logits = _get_logits(\n"
          ]
        },
        {
          "output_type": "stream",
          "name": "stdout",
          "text": [
            "1563/1563 [==============================] - 13s 4ms/step - loss: 4.1327 - accuracy: 0.0655\n",
            "Epoch 2/25\n",
            "1563/1563 [==============================] - 5s 3ms/step - loss: 3.7423 - accuracy: 0.1254\n",
            "Epoch 3/25\n",
            "1563/1563 [==============================] - 6s 4ms/step - loss: 3.5808 - accuracy: 0.1516\n",
            "Epoch 4/25\n",
            "1563/1563 [==============================] - 5s 3ms/step - loss: 3.4766 - accuracy: 0.1693\n",
            "Epoch 5/25\n",
            "1563/1563 [==============================] - 6s 4ms/step - loss: 3.3967 - accuracy: 0.1838\n",
            "Epoch 6/25\n",
            "1563/1563 [==============================] - 5s 3ms/step - loss: 3.3332 - accuracy: 0.1943\n",
            "Epoch 7/25\n",
            "1563/1563 [==============================] - 7s 4ms/step - loss: 3.2815 - accuracy: 0.2056\n",
            "Epoch 8/25\n",
            "1563/1563 [==============================] - 5s 3ms/step - loss: 3.2280 - accuracy: 0.2132\n",
            "Epoch 9/25\n",
            "1563/1563 [==============================] - 6s 4ms/step - loss: 3.1934 - accuracy: 0.2198\n",
            "Epoch 10/25\n",
            "1563/1563 [==============================] - 5s 3ms/step - loss: 3.1620 - accuracy: 0.2260\n",
            "Epoch 11/25\n",
            "1563/1563 [==============================] - 6s 4ms/step - loss: 3.1251 - accuracy: 0.2305\n",
            "Epoch 12/25\n",
            "1563/1563 [==============================] - 6s 4ms/step - loss: 3.0977 - accuracy: 0.2353\n",
            "Epoch 13/25\n",
            "1563/1563 [==============================] - 5s 3ms/step - loss: 3.0687 - accuracy: 0.2423\n",
            "Epoch 14/25\n",
            "1563/1563 [==============================] - 6s 4ms/step - loss: 3.0408 - accuracy: 0.2481\n",
            "Epoch 15/25\n",
            "1563/1563 [==============================] - 5s 3ms/step - loss: 3.0165 - accuracy: 0.2505\n",
            "Epoch 16/25\n",
            "1563/1563 [==============================] - 6s 4ms/step - loss: 2.9930 - accuracy: 0.2540\n",
            "Epoch 17/25\n",
            "1563/1563 [==============================] - 6s 4ms/step - loss: 2.9779 - accuracy: 0.2577\n",
            "Epoch 18/25\n",
            "1563/1563 [==============================] - 6s 4ms/step - loss: 2.9608 - accuracy: 0.2628\n",
            "Epoch 19/25\n",
            "1563/1563 [==============================] - 6s 4ms/step - loss: 2.9416 - accuracy: 0.2644\n",
            "Epoch 20/25\n",
            "1563/1563 [==============================] - 6s 4ms/step - loss: 2.9261 - accuracy: 0.2681\n",
            "Epoch 21/25\n",
            "1563/1563 [==============================] - 5s 3ms/step - loss: 2.9002 - accuracy: 0.2739\n",
            "Epoch 22/25\n",
            "1563/1563 [==============================] - 5s 4ms/step - loss: 2.8852 - accuracy: 0.2768\n",
            "Epoch 23/25\n",
            "1563/1563 [==============================] - 6s 4ms/step - loss: 2.8684 - accuracy: 0.2797\n",
            "Epoch 24/25\n",
            "1563/1563 [==============================] - 5s 3ms/step - loss: 2.8579 - accuracy: 0.2799\n",
            "Epoch 25/25\n",
            "1563/1563 [==============================] - 6s 4ms/step - loss: 2.8423 - accuracy: 0.2843\n"
          ]
        },
        {
          "output_type": "execute_result",
          "data": {
            "text/plain": [
              "<keras.src.callbacks.History at 0x7a0f49839b70>"
            ]
          },
          "metadata": {},
          "execution_count": 4
        }
      ],
      "source": [
        "model.fit(X_train, Y_train, epochs=25)"
      ]
    },
    {
      "cell_type": "code",
      "source": [
        "model.evaluate(X_test, Y_test)"
      ],
      "metadata": {
        "colab": {
          "base_uri": "https://localhost:8080/"
        },
        "id": "pY4s_4dPr5tQ",
        "outputId": "a9e81865-e021-4c5e-d114-a2a62403ac92"
      },
      "execution_count": 6,
      "outputs": [
        {
          "output_type": "stream",
          "name": "stdout",
          "text": [
            "313/313 [==============================] - 1s 3ms/step - loss: 3.4585 - accuracy: 0.2165\n"
          ]
        },
        {
          "output_type": "execute_result",
          "data": {
            "text/plain": [
              "[3.4584882259368896, 0.21649999916553497]"
            ]
          },
          "metadata": {},
          "execution_count": 6
        }
      ]
    },
    {
      "cell_type": "code",
      "source": [
        "model.save('weights_mlp.h5')"
      ],
      "metadata": {
        "colab": {
          "base_uri": "https://localhost:8080/"
        },
        "id": "CwhL_zv2rvAy",
        "outputId": "cd9d1cc1-3a84-4cb6-d142-8a0703c5dcd2"
      },
      "execution_count": 5,
      "outputs": [
        {
          "output_type": "stream",
          "name": "stderr",
          "text": [
            "/usr/local/lib/python3.10/dist-packages/keras/src/engine/training.py:3000: UserWarning: You are saving your model as an HDF5 file via `model.save()`. This file format is considered legacy. We recommend using instead the native Keras format, e.g. `model.save('my_model.keras')`.\n",
            "  saving_api.save_model(\n"
          ]
        }
      ]
    },
    {
      "cell_type": "markdown",
      "metadata": {
        "id": "DiCRKx5MMK87"
      },
      "source": [
        "## MLP + CNN"
      ]
    },
    {
      "cell_type": "code",
      "execution_count": 7,
      "metadata": {
        "id": "oP02XGvon8Mn"
      },
      "outputs": [],
      "source": [
        "model = tf.keras.models.Sequential([\n",
        "\n",
        "        layers.Conv2D(32,(3,3),activation='relu',input_shape=(32, 32,3)),\n",
        "        layers.Conv2D(32,(3,3),activation='relu'),\n",
        "        layers.MaxPool2D((2, 2)),\n",
        "        layers.Conv2D(64,(3,3),activation='relu'),\n",
        "        layers.Conv2D(64,(3,3),activation='relu'),\n",
        "        layers.MaxPool2D((2, 2)),\n",
        "\n",
        "        layers.Flatten(),\n",
        "\n",
        "        tf.keras.layers.Dense(48, activation='relu'),\n",
        "        tf.keras.layers.Dense(100)\n",
        "])\n",
        "model.compile(optimizer='adam',\n",
        "              loss=tf.keras.losses.SparseCategoricalCrossentropy(from_logits=True),\n",
        "              metrics=['accuracy'])"
      ]
    },
    {
      "cell_type": "code",
      "execution_count": 8,
      "metadata": {
        "colab": {
          "base_uri": "https://localhost:8080/"
        },
        "id": "nH9qGGgYMNZc",
        "outputId": "e707bb4d-bb7e-4492-fe66-5b0bbb04c03f"
      },
      "outputs": [
        {
          "output_type": "stream",
          "name": "stdout",
          "text": [
            "Epoch 1/15\n",
            "1563/1563 [==============================] - 15s 5ms/step - loss: 4.0928 - accuracy: 0.0689\n",
            "Epoch 2/15\n",
            "1563/1563 [==============================] - 8s 5ms/step - loss: 3.4932 - accuracy: 0.1664\n",
            "Epoch 3/15\n",
            "1563/1563 [==============================] - 8s 5ms/step - loss: 3.1535 - accuracy: 0.2282\n",
            "Epoch 4/15\n",
            "1563/1563 [==============================] - 7s 5ms/step - loss: 2.9615 - accuracy: 0.2647\n",
            "Epoch 5/15\n",
            "1563/1563 [==============================] - 8s 5ms/step - loss: 2.8101 - accuracy: 0.2936\n",
            "Epoch 6/15\n",
            "1563/1563 [==============================] - 7s 5ms/step - loss: 2.6844 - accuracy: 0.3178\n",
            "Epoch 7/15\n",
            "1563/1563 [==============================] - 8s 5ms/step - loss: 2.5789 - accuracy: 0.3390\n",
            "Epoch 8/15\n",
            "1563/1563 [==============================] - 8s 5ms/step - loss: 2.4904 - accuracy: 0.3574\n",
            "Epoch 9/15\n",
            "1563/1563 [==============================] - 7s 5ms/step - loss: 2.4122 - accuracy: 0.3748\n",
            "Epoch 10/15\n",
            "1563/1563 [==============================] - 8s 5ms/step - loss: 2.3452 - accuracy: 0.3890\n",
            "Epoch 11/15\n",
            "1563/1563 [==============================] - 8s 5ms/step - loss: 2.2811 - accuracy: 0.3995\n",
            "Epoch 12/15\n",
            "1563/1563 [==============================] - 7s 5ms/step - loss: 2.2273 - accuracy: 0.4109\n",
            "Epoch 13/15\n",
            "1563/1563 [==============================] - 8s 5ms/step - loss: 2.1704 - accuracy: 0.4258\n",
            "Epoch 14/15\n",
            "1563/1563 [==============================] - 7s 5ms/step - loss: 2.1221 - accuracy: 0.4356\n",
            "Epoch 15/15\n",
            "1563/1563 [==============================] - 7s 5ms/step - loss: 2.0758 - accuracy: 0.4439\n"
          ]
        },
        {
          "output_type": "execute_result",
          "data": {
            "text/plain": [
              "<keras.src.callbacks.History at 0x7a0ed05558a0>"
            ]
          },
          "metadata": {},
          "execution_count": 8
        }
      ],
      "source": [
        "model.fit(X_train,Y_train,epochs=15)"
      ]
    },
    {
      "cell_type": "code",
      "source": [
        "model.evaluate(X_test, Y_test)"
      ],
      "metadata": {
        "colab": {
          "base_uri": "https://localhost:8080/"
        },
        "id": "OXdAGyp9r1MJ",
        "outputId": "3912c36b-fa4a-4654-b89b-f6e951f32b71"
      },
      "execution_count": 9,
      "outputs": [
        {
          "output_type": "stream",
          "name": "stdout",
          "text": [
            "313/313 [==============================] - 1s 3ms/step - loss: 2.6651 - accuracy: 0.3464\n"
          ]
        },
        {
          "output_type": "execute_result",
          "data": {
            "text/plain": [
              "[2.665119171142578, 0.3463999927043915]"
            ]
          },
          "metadata": {},
          "execution_count": 9
        }
      ]
    },
    {
      "cell_type": "code",
      "source": [
        "model.save('weights_mlp_cnn.h5')"
      ],
      "metadata": {
        "id": "_rseqZmRr1Cq"
      },
      "execution_count": 10,
      "outputs": []
    },
    {
      "cell_type": "code",
      "source": [],
      "metadata": {
        "id": "gCubho0Ar7aX"
      },
      "execution_count": null,
      "outputs": []
    }
  ],
  "metadata": {
    "accelerator": "GPU",
    "colab": {
      "provenance": [],
      "gpuType": "T4"
    },
    "kernelspec": {
      "display_name": "Python 3",
      "name": "python3"
    },
    "language_info": {
      "name": "python"
    }
  },
  "nbformat": 4,
  "nbformat_minor": 0
}