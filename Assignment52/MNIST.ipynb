{
  "cells": [
    {
      "cell_type": "code",
      "execution_count": null,
      "metadata": {
        "id": "snxungt7tDrP"
      },
      "outputs": [],
      "source": [
        "import tensorflow as tf\n",
        "from tensorflow.keras import layers\n",
        "import numpy as np\n",
        "from sklearn.model_selection import train_test_split"
      ]
    },
    {
      "cell_type": "code",
      "execution_count": null,
      "metadata": {
        "colab": {
          "base_uri": "https://localhost:8080/"
        },
        "id": "0OY5qK2FwOaj",
        "outputId": "722473ad-d330-46e9-fcd3-94d5d5f9d8fb"
      },
      "outputs": [
        {
          "output_type": "stream",
          "name": "stdout",
          "text": [
            "Downloading data from https://storage.googleapis.com/tensorflow/tf-keras-datasets/mnist.npz\n",
            "11490434/11490434 [==============================] - 0s 0us/step\n"
          ]
        }
      ],
      "source": [
        "mnist = tf.keras.datasets.mnist\n",
        "\n",
        "(X_train, Y_train),(X_test, Y_test) = mnist.load_data()\n",
        "\n",
        "X_train, X_test = X_train / 255.0, X_test / 255.0"
      ]
    },
    {
      "cell_type": "markdown",
      "metadata": {
        "id": "qY0ecrSGxipl"
      },
      "source": [
        "## MLP"
      ]
    },
    {
      "cell_type": "code",
      "execution_count": null,
      "metadata": {
        "colab": {
          "base_uri": "https://localhost:8080/"
        },
        "id": "HkBUo7GlwSVb",
        "outputId": "a58f7134-4118-4a7b-ea84-96dcfa055b9a"
      },
      "outputs": [
        {
          "name": "stdout",
          "output_type": "stream",
          "text": [
            "Epoch 1/5\n",
            "1875/1875 [==============================] - 11s 5ms/step - loss: 0.2944 - accuracy: 0.9162\n",
            "Epoch 2/5\n",
            "1875/1875 [==============================] - 10s 5ms/step - loss: 0.1390 - accuracy: 0.9588\n",
            "Epoch 3/5\n",
            "1875/1875 [==============================] - 10s 6ms/step - loss: 0.1073 - accuracy: 0.9676\n",
            "Epoch 4/5\n",
            "1875/1875 [==============================] - 9s 5ms/step - loss: 0.0845 - accuracy: 0.9736\n",
            "Epoch 5/5\n",
            "1875/1875 [==============================] - 9s 5ms/step - loss: 0.0735 - accuracy: 0.9774\n"
          ]
        },
        {
          "data": {
            "text/plain": [
              "<keras.src.callbacks.History at 0x7b3c42ed47f0>"
            ]
          },
          "execution_count": 3,
          "metadata": {},
          "output_type": "execute_result"
        }
      ],
      "source": [
        "model = tf.keras.models.Sequential([\n",
        "  tf.keras.layers.Flatten(input_shape=(28, 28)),\n",
        "  tf.keras.layers.Dense(128, activation='relu'),\n",
        "  tf.keras.layers.Dropout(0.2),\n",
        "  tf.keras.layers.Dense(10, activation='softmax')\n",
        "])\n",
        "\n",
        "model.compile(optimizer='adam',\n",
        "              loss='sparse_categorical_crossentropy',\n",
        "              metrics=['accuracy'])\n",
        "\n",
        "model.fit(X_train, Y_train, epochs=5)"
      ]
    },
    {
      "cell_type": "code",
      "execution_count": null,
      "metadata": {
        "colab": {
          "base_uri": "https://localhost:8080/"
        },
        "id": "vQ5GszgrwWvD",
        "outputId": "13299f2d-a14c-4e6d-9901-871da186705f"
      },
      "outputs": [
        {
          "name": "stdout",
          "output_type": "stream",
          "text": [
            "313/313 [==============================] - 1s 2ms/step - loss: 0.0706 - accuracy: 0.9788\n"
          ]
        },
        {
          "data": {
            "text/plain": [
              "[0.07058896124362946, 0.9787999987602234]"
            ]
          },
          "execution_count": 4,
          "metadata": {},
          "output_type": "execute_result"
        }
      ],
      "source": [
        "model.evaluate(X_test, Y_test)\n"
      ]
    },
    {
      "cell_type": "markdown",
      "metadata": {
        "id": "hcsX3GfuxlWl"
      },
      "source": [
        "## MLP + CNN"
      ]
    },
    {
      "cell_type": "code",
      "execution_count": null,
      "metadata": {
        "id": "JTGO6YxvxesK"
      },
      "outputs": [],
      "source": [
        "model = tf.keras.models.Sequential([\n",
        "\n",
        "        layers.Conv2D(32,(3,3),activation='relu',input_shape=(28, 28,1)),\n",
        "        layers.MaxPool2D(),\n",
        "        layers.Conv2D(64,(3,3),activation='relu'),\n",
        "        layers.MaxPool2D(),\n",
        "        layers.Conv2D(64,(5,5),activation='relu'),\n",
        "\n",
        "        layers.Flatten(),\n",
        "\n",
        "        layers.Dense(48,activation='relu'),\n",
        "        layers.Dense(10,activation='softmax')\n",
        "])\n",
        "model.compile(optimizer=tf.keras.optimizers.SGD(learning_rate=0.001),\n",
        "              loss=tf.keras.losses.sparse_categorical_crossentropy,\n",
        "              metrics=['accuracy'])"
      ]
    },
    {
      "cell_type": "code",
      "execution_count": null,
      "metadata": {
        "colab": {
          "base_uri": "https://localhost:8080/"
        },
        "id": "O45AiOL0xuyL",
        "outputId": "2f359050-0c7e-43c9-c726-60fda086e298"
      },
      "outputs": [
        {
          "output_type": "stream",
          "name": "stdout",
          "text": [
            "Epoch 1/12\n",
            "1875/1875 [==============================] - 18s 4ms/step - loss: 2.2402 - accuracy: 0.3280\n",
            "Epoch 2/12\n",
            "1875/1875 [==============================] - 7s 4ms/step - loss: 1.5179 - accuracy: 0.6201\n",
            "Epoch 3/12\n",
            "1875/1875 [==============================] - 7s 3ms/step - loss: 0.5249 - accuracy: 0.8544\n",
            "Epoch 4/12\n",
            "1875/1875 [==============================] - 7s 4ms/step - loss: 0.3598 - accuracy: 0.8954\n",
            "Epoch 5/12\n",
            "1875/1875 [==============================] - 6s 3ms/step - loss: 0.2988 - accuracy: 0.9122\n",
            "Epoch 6/12\n",
            "1875/1875 [==============================] - 7s 4ms/step - loss: 0.2604 - accuracy: 0.9220\n",
            "Epoch 7/12\n",
            "1875/1875 [==============================] - 6s 3ms/step - loss: 0.2301 - accuracy: 0.9317\n",
            "Epoch 8/12\n",
            "1875/1875 [==============================] - 7s 4ms/step - loss: 0.2062 - accuracy: 0.9386\n",
            "Epoch 9/12\n",
            "1875/1875 [==============================] - 6s 3ms/step - loss: 0.1857 - accuracy: 0.9444\n",
            "Epoch 10/12\n",
            "1875/1875 [==============================] - 7s 4ms/step - loss: 0.1695 - accuracy: 0.9502\n",
            "Epoch 11/12\n",
            "1875/1875 [==============================] - 8s 4ms/step - loss: 0.1556 - accuracy: 0.9545\n",
            "Epoch 12/12\n",
            "1875/1875 [==============================] - 6s 3ms/step - loss: 0.1440 - accuracy: 0.9580\n"
          ]
        },
        {
          "output_type": "execute_result",
          "data": {
            "text/plain": [
              "<keras.src.callbacks.History at 0x7b7c432387f0>"
            ]
          },
          "metadata": {},
          "execution_count": 4
        }
      ],
      "source": [
        "model.fit(X_train,Y_train,epochs=12)"
      ]
    },
    {
      "cell_type": "code",
      "execution_count": null,
      "metadata": {
        "id": "HSrDkEUbyE3N",
        "colab": {
          "base_uri": "https://localhost:8080/"
        },
        "outputId": "9eaa0761-571e-4b2e-de41-e6873fa9b1b9"
      },
      "outputs": [
        {
          "output_type": "stream",
          "name": "stdout",
          "text": [
            "313/313 [==============================] - 2s 5ms/step - loss: 0.1257 - accuracy: 0.9630\n"
          ]
        },
        {
          "output_type": "execute_result",
          "data": {
            "text/plain": [
              "[0.12566843628883362, 0.9629999995231628]"
            ]
          },
          "metadata": {},
          "execution_count": 5
        }
      ],
      "source": [
        "model.evaluate(X_test, Y_test)"
      ]
    },
    {
      "cell_type": "code",
      "source": [],
      "metadata": {
        "id": "2eaOb87YRRu_"
      },
      "execution_count": null,
      "outputs": []
    }
  ],
  "metadata": {
    "colab": {
      "provenance": [],
      "gpuType": "T4"
    },
    "kernelspec": {
      "display_name": "Python 3",
      "name": "python3"
    },
    "language_info": {
      "name": "python"
    },
    "accelerator": "GPU"
  },
  "nbformat": 4,
  "nbformat_minor": 0
}