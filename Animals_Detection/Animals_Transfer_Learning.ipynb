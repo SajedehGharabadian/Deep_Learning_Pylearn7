{
  "nbformat": 4,
  "nbformat_minor": 0,
  "metadata": {
    "colab": {
      "provenance": []
    },
    "kernelspec": {
      "name": "python3",
      "display_name": "Python 3"
    },
    "language_info": {
      "name": "python"
    }
  },
  "cells": [
    {
      "cell_type": "code",
      "execution_count": 1,
      "metadata": {
        "id": "qPpQnxXahfnc"
      },
      "outputs": [],
      "source": [
        "import tensorflow as tf\n",
        "from tensorflow.keras.preprocessing.image import ImageDataGenerator\n",
        "from tensorflow.keras.layers import Conv2D,MaxPool2D,Flatten,Dense\n",
        "import numpy as np\n",
        "import cv2\n",
        "from sklearn.metrics import confusion_matrix\n",
        "import seaborn as sn\n",
        "import matplotlib.pyplot as plt"
      ]
    },
    {
      "cell_type": "code",
      "source": [
        "dataset_path = '/content/drive/MyDrive/animal'\n",
        "width = height = 224\n",
        "\n",
        "idg = ImageDataGenerator(\n",
        "\n",
        "    rescale = 1./255,\n",
        "    horizontal_flip = True,\n",
        "    #zoom_range = 0.1,\n",
        "    brightness_range = (0.9,1.1),\n",
        "    #rotation_range = 15,\n",
        "    validation_split = 0.2 #validation data\n",
        ")\n",
        "\n",
        "train_data = idg.flow_from_directory(\n",
        "    dataset_path,\n",
        "    target_size = (width,height),\n",
        "    class_mode = \"categorical\",\n",
        "    subset = \"training\"\n",
        ")\n",
        "\n",
        "val_data = idg.flow_from_directory(  #eamal taghirat bar roye tasavir\n",
        "    dataset_path,\n",
        "    target_size = (width,height),\n",
        "    class_mode = \"categorical\",\n",
        "    subset = \"validation\"\n",
        ")"
      ],
      "metadata": {
        "colab": {
          "base_uri": "https://localhost:8080/"
        },
        "id": "vGdD6__nhpxI",
        "outputId": "2e8e64fd-95d7-4965-c8aa-b2da7ec980e5"
      },
      "execution_count": 2,
      "outputs": [
        {
          "output_type": "stream",
          "name": "stdout",
          "text": [
            "Found 1042 images belonging to 5 classes.\n",
            "Found 257 images belonging to 5 classes.\n"
          ]
        }
      ]
    },
    {
      "cell_type": "code",
      "source": [
        "base_model = tf.keras.applications.MobileNetV2(\n",
        "    include_top=False,\n",
        "    weights = 'imagenet',\n",
        "    input_shape=(width,height,3),\n",
        "    pooling = 'avg',\n",
        ")\n",
        "\n",
        "model = tf.keras.models.Sequential([\n",
        "        base_model,\n",
        "        #Dropout(0.3),\n",
        "        # Flatten(),\n",
        "        # Dense(1024,activation='relu'),\n",
        "        Dense(256,activation='relu'),\n",
        "        Dense(5,activation='softmax')\n",
        "\n",
        "])"
      ],
      "metadata": {
        "id": "-FYooxgvh6cW"
      },
      "execution_count": 4,
      "outputs": []
    },
    {
      "cell_type": "code",
      "source": [
        "for layer in base_model.layers[:-2]:  #freeze layer\n",
        "  layer.trainable = False"
      ],
      "metadata": {
        "id": "uiX53hx5oV9f"
      },
      "execution_count": 5,
      "outputs": []
    },
    {
      "cell_type": "code",
      "source": [
        "model.compile(optimizer = tf.keras.optimizers.Adam(),\n",
        "              loss=tf.keras.losses.categorical_crossentropy,\n",
        "              metrics=['accuracy'])"
      ],
      "metadata": {
        "id": "Y6C2hz8Soadg"
      },
      "execution_count": 6,
      "outputs": []
    },
    {
      "cell_type": "code",
      "source": [
        "model.fit(train_data,validation_data=val_data,epochs=10)"
      ],
      "metadata": {
        "colab": {
          "base_uri": "https://localhost:8080/"
        },
        "id": "aHdVF9QZodBX",
        "outputId": "b453cfea-a658-460a-a135-f4640efab42b"
      },
      "execution_count": 7,
      "outputs": [
        {
          "output_type": "stream",
          "name": "stdout",
          "text": [
            "Epoch 1/10\n",
            "33/33 [==============================] - 476s 14s/step - loss: 0.3384 - accuracy: 0.8925 - val_loss: 0.1040 - val_accuracy: 0.9767\n",
            "Epoch 2/10\n",
            "33/33 [==============================] - 65s 2s/step - loss: 0.0811 - accuracy: 0.9712 - val_loss: 0.0712 - val_accuracy: 0.9728\n",
            "Epoch 3/10\n",
            "33/33 [==============================] - 65s 2s/step - loss: 0.0250 - accuracy: 0.9904 - val_loss: 0.0704 - val_accuracy: 0.9728\n",
            "Epoch 4/10\n",
            "33/33 [==============================] - 66s 2s/step - loss: 0.0164 - accuracy: 0.9962 - val_loss: 0.0661 - val_accuracy: 0.9767\n",
            "Epoch 5/10\n",
            "33/33 [==============================] - 66s 2s/step - loss: 0.0069 - accuracy: 0.9990 - val_loss: 0.0641 - val_accuracy: 0.9767\n",
            "Epoch 6/10\n",
            "33/33 [==============================] - 57s 2s/step - loss: 0.0035 - accuracy: 1.0000 - val_loss: 0.0603 - val_accuracy: 0.9805\n",
            "Epoch 7/10\n",
            "33/33 [==============================] - 65s 2s/step - loss: 0.0028 - accuracy: 0.9990 - val_loss: 0.0699 - val_accuracy: 0.9767\n",
            "Epoch 8/10\n",
            "33/33 [==============================] - 57s 2s/step - loss: 0.0028 - accuracy: 1.0000 - val_loss: 0.0931 - val_accuracy: 0.9767\n",
            "Epoch 9/10\n",
            "33/33 [==============================] - 57s 2s/step - loss: 0.0014 - accuracy: 1.0000 - val_loss: 0.0887 - val_accuracy: 0.9650\n",
            "Epoch 10/10\n",
            "33/33 [==============================] - 57s 2s/step - loss: 0.0014 - accuracy: 1.0000 - val_loss: 0.0662 - val_accuracy: 0.9805\n"
          ]
        },
        {
          "output_type": "execute_result",
          "data": {
            "text/plain": [
              "<keras.src.callbacks.History at 0x7a6af2ecbbe0>"
            ]
          },
          "metadata": {},
          "execution_count": 7
        }
      ]
    },
    {
      "cell_type": "code",
      "source": [
        "model.save('animals_recognition.h5')\n"
      ],
      "metadata": {
        "id": "dPHaBMhFoe8y"
      },
      "execution_count": 9,
      "outputs": []
    },
    {
      "cell_type": "code",
      "source": [],
      "metadata": {
        "id": "LwAkYpVIuKkk"
      },
      "execution_count": null,
      "outputs": []
    }
  ]
}