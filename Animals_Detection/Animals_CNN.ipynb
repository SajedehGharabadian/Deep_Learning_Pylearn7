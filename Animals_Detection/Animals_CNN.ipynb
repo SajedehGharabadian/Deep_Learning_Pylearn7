{
  "nbformat": 4,
  "nbformat_minor": 0,
  "metadata": {
    "colab": {
      "provenance": [],
      "gpuType": "T4"
    },
    "kernelspec": {
      "name": "python3",
      "display_name": "Python 3"
    },
    "language_info": {
      "name": "python"
    },
    "accelerator": "GPU"
  },
  "cells": [
    {
      "cell_type": "code",
      "execution_count": 1,
      "metadata": {
        "id": "D97aSKXFwj_L"
      },
      "outputs": [],
      "source": [
        "import tensorflow as tf\n",
        "from tensorflow.keras.preprocessing.image import ImageDataGenerator\n",
        "from tensorflow.keras.layers import Conv2D,MaxPool2D,Flatten,Dense\n",
        "import numpy as np\n",
        "import cv2\n",
        "from sklearn.metrics import confusion_matrix\n",
        "import seaborn as sn\n",
        "import matplotlib.pyplot as plt\n"
      ]
    },
    {
      "cell_type": "markdown",
      "source": [
        "## DataSet"
      ],
      "metadata": {
        "id": "N9Bb3ebLy96-"
      }
    },
    {
      "cell_type": "code",
      "source": [
        "dataset_path = '/content/drive/MyDrive/animal'\n",
        "width = height = 224\n",
        "\n",
        "idg = ImageDataGenerator(\n",
        "\n",
        "    rescale = 1./255,\n",
        "    horizontal_flip = True,\n",
        "    zoom_range = 0.1,\n",
        "    brightness_range = (0.9,1.1),\n",
        "    rotation_range = 15,\n",
        "    validation_split = 0.2 #validation data\n",
        ")\n",
        "\n",
        "train_data = idg.flow_from_directory(\n",
        "    dataset_path,\n",
        "    target_size = (width,height),\n",
        "    class_mode = \"categorical\",\n",
        "    subset = \"training\"\n",
        ")\n",
        "\n",
        "val_data = idg.flow_from_directory(  #eamal taghirat bar roye tasavir\n",
        "    dataset_path,\n",
        "    target_size = (width,height),\n",
        "    class_mode = \"categorical\",\n",
        "    subset = \"validation\"\n",
        ")"
      ],
      "metadata": {
        "colab": {
          "base_uri": "https://localhost:8080/"
        },
        "id": "5B-MklqEy2tK",
        "outputId": "1a7d3aae-88ab-427e-b024-7771b80c691a"
      },
      "execution_count": 2,
      "outputs": [
        {
          "output_type": "stream",
          "name": "stdout",
          "text": [
            "Found 1045 images belonging to 5 classes.\n",
            "Found 258 images belonging to 5 classes.\n"
          ]
        }
      ]
    },
    {
      "cell_type": "markdown",
      "source": [
        "## Model"
      ],
      "metadata": {
        "id": "KVTTr38b-MOO"
      }
    },
    {
      "cell_type": "code",
      "source": [
        "model = tf.keras.models.Sequential([\n",
        "  Conv2D(16,(3,3),activation='relu',strides=(2, 2),input_shape=(width,height,3)),\n",
        "  Conv2D(32,(3,3),activation='relu',strides=(2, 2)),\n",
        "  MaxPool2D(),\n",
        "  Conv2D(64,(5,5),activation='relu',strides=(2, 2)),\n",
        "  Conv2D(128,(3,3),activation='relu',strides=(2, 2)),\n",
        "  MaxPool2D(),\n",
        "\n",
        "  Flatten(),\n",
        "  Dense(512,activation='relu'),\n",
        "  Dense(5,activation='softmax')\n",
        "])"
      ],
      "metadata": {
        "id": "9IZ11yOF75Se"
      },
      "execution_count": 5,
      "outputs": []
    },
    {
      "cell_type": "code",
      "source": [
        "model.compile(optimizer=tf.keras.optimizers.Adam(),\n",
        "              loss=tf.keras.losses.categorical_crossentropy,\n",
        "              metrics=['accuracy'])"
      ],
      "metadata": {
        "id": "PxmdHmZL_ZP1"
      },
      "execution_count": 6,
      "outputs": []
    },
    {
      "cell_type": "code",
      "source": [
        "model.fit(train_data,validation_data=val_data,epochs=20)"
      ],
      "metadata": {
        "colab": {
          "base_uri": "https://localhost:8080/"
        },
        "id": "kgOvmMaz_0JI",
        "outputId": "d22c960d-477e-483e-976a-d302043c5ddb"
      },
      "execution_count": 7,
      "outputs": [
        {
          "output_type": "stream",
          "name": "stdout",
          "text": [
            "Epoch 1/20\n",
            "33/33 [==============================] - 55s 2s/step - loss: 1.5813 - accuracy: 0.2555 - val_loss: 1.5755 - val_accuracy: 0.3320\n",
            "Epoch 2/20\n",
            "33/33 [==============================] - 50s 2s/step - loss: 1.4797 - accuracy: 0.3722 - val_loss: 1.3786 - val_accuracy: 0.3629\n",
            "Epoch 3/20\n",
            "33/33 [==============================] - 49s 1s/step - loss: 1.3343 - accuracy: 0.4010 - val_loss: 1.2952 - val_accuracy: 0.4517\n",
            "Epoch 4/20\n",
            "33/33 [==============================] - 46s 1s/step - loss: 1.2515 - accuracy: 0.4756 - val_loss: 1.2423 - val_accuracy: 0.4903\n",
            "Epoch 5/20\n",
            "33/33 [==============================] - 45s 1s/step - loss: 1.1946 - accuracy: 0.4986 - val_loss: 1.1934 - val_accuracy: 0.4826\n",
            "Epoch 6/20\n",
            "33/33 [==============================] - 49s 1s/step - loss: 1.1291 - accuracy: 0.5321 - val_loss: 1.2288 - val_accuracy: 0.4556\n",
            "Epoch 7/20\n",
            "33/33 [==============================] - 47s 1s/step - loss: 1.0896 - accuracy: 0.5627 - val_loss: 1.1424 - val_accuracy: 0.5483\n",
            "Epoch 8/20\n",
            "33/33 [==============================] - 50s 2s/step - loss: 1.0193 - accuracy: 0.5789 - val_loss: 1.1186 - val_accuracy: 0.5483\n",
            "Epoch 9/20\n",
            "33/33 [==============================] - 51s 2s/step - loss: 0.9413 - accuracy: 0.6306 - val_loss: 1.1537 - val_accuracy: 0.4981\n",
            "Epoch 10/20\n",
            "33/33 [==============================] - 51s 2s/step - loss: 0.9167 - accuracy: 0.6507 - val_loss: 1.1343 - val_accuracy: 0.5985\n",
            "Epoch 11/20\n",
            "33/33 [==============================] - 49s 1s/step - loss: 0.8639 - accuracy: 0.6785 - val_loss: 1.0571 - val_accuracy: 0.5830\n",
            "Epoch 12/20\n",
            "33/33 [==============================] - 47s 1s/step - loss: 0.8169 - accuracy: 0.6823 - val_loss: 0.9766 - val_accuracy: 0.6178\n",
            "Epoch 13/20\n",
            "33/33 [==============================] - 50s 2s/step - loss: 0.8277 - accuracy: 0.6737 - val_loss: 1.0356 - val_accuracy: 0.6062\n",
            "Epoch 14/20\n",
            "33/33 [==============================] - 50s 2s/step - loss: 0.7598 - accuracy: 0.6938 - val_loss: 0.9335 - val_accuracy: 0.6448\n",
            "Epoch 15/20\n",
            "33/33 [==============================] - 47s 1s/step - loss: 0.7383 - accuracy: 0.7139 - val_loss: 0.9407 - val_accuracy: 0.6757\n",
            "Epoch 16/20\n",
            "33/33 [==============================] - 50s 2s/step - loss: 0.7139 - accuracy: 0.7148 - val_loss: 0.9544 - val_accuracy: 0.6718\n",
            "Epoch 17/20\n",
            "33/33 [==============================] - 50s 2s/step - loss: 0.6687 - accuracy: 0.7311 - val_loss: 1.0339 - val_accuracy: 0.6216\n",
            "Epoch 18/20\n",
            "33/33 [==============================] - 51s 2s/step - loss: 0.6931 - accuracy: 0.7301 - val_loss: 0.9175 - val_accuracy: 0.6834\n",
            "Epoch 19/20\n",
            "33/33 [==============================] - 50s 2s/step - loss: 0.6346 - accuracy: 0.7541 - val_loss: 0.9286 - val_accuracy: 0.6680\n",
            "Epoch 20/20\n",
            "33/33 [==============================] - 49s 1s/step - loss: 0.5500 - accuracy: 0.7809 - val_loss: 1.0235 - val_accuracy: 0.6255\n"
          ]
        },
        {
          "output_type": "execute_result",
          "data": {
            "text/plain": [
              "<keras.src.callbacks.History at 0x7b65bccf2230>"
            ]
          },
          "metadata": {},
          "execution_count": 7
        }
      ]
    },
    {
      "cell_type": "code",
      "source": [
        "model.save('animals.h5')"
      ],
      "metadata": {
        "id": "umUTBRobfymE"
      },
      "execution_count": null,
      "outputs": []
    },
    {
      "cell_type": "code",
      "source": [
        "from keras.models import load_model\n",
        "model = load_model('/content/animals.h5')"
      ],
      "metadata": {
        "id": "vA-fpt_OE_XN"
      },
      "execution_count": 5,
      "outputs": []
    },
    {
      "cell_type": "markdown",
      "source": [
        "## Confusion Matrix"
      ],
      "metadata": {
        "id": "Dg6RN46vZPFj"
      }
    },
    {
      "cell_type": "code",
      "source": [
        "Y_pred = model.predict(val_data)\n",
        "y_pred = np.argmax(Y_pred, axis=1)\n",
        "conf_mat = confusion_matrix(val_data.classes, y_pred)\n",
        "\n",
        "\n",
        "sn.heatmap(conf_mat, annot=True)\n",
        "plt.imshow(conf_mat)"
      ],
      "metadata": {
        "colab": {
          "base_uri": "https://localhost:8080/",
          "height": 470
        },
        "id": "1ztfqrewObD4",
        "outputId": "2067bb20-97f8-47dd-c2eb-442a2cc25844"
      },
      "execution_count": 6,
      "outputs": [
        {
          "output_type": "stream",
          "name": "stdout",
          "text": [
            "9/9 [==============================] - 114s 13s/step\n"
          ]
        },
        {
          "output_type": "execute_result",
          "data": {
            "text/plain": [
              "<matplotlib.image.AxesImage at 0x7dc4ed158fa0>"
            ]
          },
          "metadata": {},
          "execution_count": 6
        },
        {
          "output_type": "display_data",
          "data": {
            "text/plain": [
              "<Figure size 640x480 with 2 Axes>"
            ],
            "image/png": "[encoded data removed]"
          },
          "metadata": {}
        }
      ]
    },
    {
      "cell_type": "markdown",
      "source": [
        "## Inference"
      ],
      "metadata": {
        "id": "_le5fgozFHiI"
      }
    },
    {
      "cell_type": "code",
      "source": [
        "image = cv2.imread('/content/panda.jpg')\n",
        "image = cv2.cvtColor(image,cv2.COLOR_BGR2RGB)\n",
        "img = cv2.resize(image ,(width,height))\n",
        "img = img / 255\n",
        "img = img.reshape(1,width,height,3)\n",
        "\n",
        "result = np.argmax(model.predict(img))\n",
        "result"
      ],
      "metadata": {
        "colab": {
          "base_uri": "https://localhost:8080/"
        },
        "id": "u_prtOJSFI9e",
        "outputId": "1ecb06ee-2c45-4353-efd9-0b1d88a60c25"
      },
      "execution_count": 13,
      "outputs": [
        {
          "output_type": "stream",
          "name": "stdout",
          "text": [
            "1/1 [==============================] - 0s 24ms/step\n"
          ]
        },
        {
          "output_type": "execute_result",
          "data": {
            "text/plain": [
              "4"
            ]
          },
          "metadata": {},
          "execution_count": 13
        }
      ]
    },
    {
      "cell_type": "code",
      "source": [
        "if result == 0:\n",
        "  print('😺')\n",
        "\n",
        "elif result == 1:\n",
        "  print('🐶')\n",
        "\n",
        "elif result == 2:\n",
        "  print('🐘')\n",
        "\n",
        "elif result == 3:\n",
        "  print('🦒')\n",
        "elif result == 4:\n",
        "  print('🐼')"
      ],
      "metadata": {
        "colab": {
          "base_uri": "https://localhost:8080/"
        },
        "id": "5w3LCdb8G-jA",
        "outputId": "2aaf9ef7-a235-4316-c7c4-9188b45d3840"
      },
      "execution_count": 14,
      "outputs": [
        {
          "output_type": "stream",
          "name": "stdout",
          "text": [
            "🐼\n"
          ]
        }
      ]
    },
    {
      "cell_type": "code",
      "source": [
        "image = cv2.imread('/content/giraffe.jpg')\n",
        "image = cv2.cvtColor(image,cv2.COLOR_BGR2RGB)\n",
        "img = cv2.resize(image ,(width,height))\n",
        "img = img / 255\n",
        "img = img.reshape(1,width,height,3)\n",
        "\n",
        "result = np.argmax(model.predict(img))\n",
        "result"
      ],
      "metadata": {
        "colab": {
          "base_uri": "https://localhost:8080/"
        },
        "id": "-wH_YNPVGtA1",
        "outputId": "6c615743-00b5-4df4-c495-348370b4ae6b"
      },
      "execution_count": 15,
      "outputs": [
        {
          "output_type": "stream",
          "name": "stdout",
          "text": [
            "1/1 [==============================] - 0s 41ms/step\n"
          ]
        },
        {
          "output_type": "execute_result",
          "data": {
            "text/plain": [
              "3"
            ]
          },
          "metadata": {},
          "execution_count": 15
        }
      ]
    },
    {
      "cell_type": "code",
      "source": [
        "if result == 0:\n",
        "  print('😺')\n",
        "\n",
        "elif result == 1:\n",
        "  print('🐶')\n",
        "\n",
        "elif result == 2:\n",
        "  print('🐘')\n",
        "\n",
        "elif result == 3:\n",
        "  print('🦒')\n",
        "elif result == 4:\n",
        "  print('🐼')"
      ],
      "metadata": {
        "colab": {
          "base_uri": "https://localhost:8080/"
        },
        "id": "X-tY4gxMG9zV",
        "outputId": "b4daad10-c0f0-4220-cb88-273f790a801d"
      },
      "execution_count": 16,
      "outputs": [
        {
          "output_type": "stream",
          "name": "stdout",
          "text": [
            "🦒\n"
          ]
        }
      ]
    },
    {
      "cell_type": "code",
      "source": [
        "image = cv2.imread('/content/elephant.jpg')\n",
        "image = cv2.cvtColor(image,cv2.COLOR_BGR2RGB)\n",
        "img = cv2.resize(image ,(width,height))\n",
        "img = img / 255\n",
        "img = img.reshape(1,width,height,3)\n",
        "result = np.argmax(model.predict(img))\n",
        "result"
      ],
      "metadata": {
        "colab": {
          "base_uri": "https://localhost:8080/"
        },
        "id": "ePU5uS2PGzZt",
        "outputId": "f480a095-017c-481b-d7b5-90f804f29e59"
      },
      "execution_count": 17,
      "outputs": [
        {
          "output_type": "stream",
          "name": "stdout",
          "text": [
            "1/1 [==============================] - 0s 26ms/step\n"
          ]
        },
        {
          "output_type": "execute_result",
          "data": {
            "text/plain": [
              "2"
            ]
          },
          "metadata": {},
          "execution_count": 17
        }
      ]
    },
    {
      "cell_type": "code",
      "source": [
        "if result == 0:\n",
        "  print('😺')\n",
        "\n",
        "elif result == 1:\n",
        "  print('🐶')\n",
        "\n",
        "elif result == 2:\n",
        "  print('🐘')\n",
        "\n",
        "elif result == 3:\n",
        "  print('🦒')\n",
        "elif result == 4:\n",
        "  print('🐼')"
      ],
      "metadata": {
        "id": "oa7FYGfjG9v6",
        "colab": {
          "base_uri": "https://localhost:8080/"
        },
        "outputId": "138afa0e-54c1-49f8-a34c-58fbf7adf8cd"
      },
      "execution_count": 18,
      "outputs": [
        {
          "output_type": "stream",
          "name": "stdout",
          "text": [
            "🐘\n"
          ]
        }
      ]
    },
    {
      "cell_type": "code",
      "source": [],
      "metadata": {
        "id": "CCBGfdvpGo-P"
      },
      "execution_count": null,
      "outputs": []
    }
  ]
}
